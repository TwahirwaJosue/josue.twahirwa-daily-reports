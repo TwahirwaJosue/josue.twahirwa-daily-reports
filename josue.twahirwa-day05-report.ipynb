{
 "cells": [
  {
   "cell_type": "markdown",
   "metadata": {
    "colab_type": "text",
    "id": "view-in-github"
   },
   "source": [
    "<a href=\"https://colab.research.google.com/github/ai-technipreneurs/python_course_colab_notebooks/blob/main/04_Lecture04.ipynb\" target=\"_parent\"><img src=\"https://colab.research.google.com/assets/colab-badge.svg\" alt=\"Open In Colab\"/></a>"
   ]
  },
  {
   "cell_type": "markdown",
   "metadata": {
    "id": "zytLE87rcwGD"
   },
   "source": [
    "<center>\n",
    "    <a href=\"https://aims-senegal.org/\" ><img src=\"images/logoaimssn.jpeg\" style=\"float:left; max-width: 650px; display: inline\" alt=\"AIMS-SN\"/> </a>\n",
    "    </center>\n",
    "\n",
    "\n",
    "\n",
    "<center>\n",
    "    \n",
    "<a href=\"https://acas-yde.org/\" ><img src=\"images/logo-ACAS.jpg\" style=\"float:right; max-width: 250px; display: inline\" alt=\"ACAS\"/></a>\n",
    "    \n",
    "</center>\n"
   ]
  },
  {
   "cell_type": "markdown",
   "metadata": {
    "id": "dJTJTuU0cwGG"
   },
   "source": [
    "****\n",
    "\n",
    "# <center> <b> <span style=\"color:orange;\"> Python Proficiency for Scientific Computing and Data Science (PyPro-SCiDaS)  </span> </b></center>\n",
    "\n",
    "### <center> <b> <span style=\"color:green;\">An Initiation to Programming using Python (Init2Py) </span> </b></center>\n",
    "    \n"
   ]
  },
  {
   "cell_type": "markdown",
   "metadata": {
    "id": "YDafQyDBcwGH"
   },
   "source": [
    "****\n",
    "\n",
    "# <center> <b> <span style=\"color:blue;\"> Lecture 4: Flow control </span> </b></center>\n",
    "\n",
    "<!--NAVIGATION-->\n",
    "<  [3.Iterable Objects or Containers](03.Lecture03.ipynb)| [ToC](Index.ipynb) | [5.Functions, Modules and Packages](05.Lecture05.ipynb)>\n",
    "\n",
    "****"
   ]
  },
  {
   "cell_type": "markdown",
   "metadata": {
    "id": "yAmi2hLpcwGI"
   },
   "source": [
    "**Flow control** in Python is essential for directing the flow of a program's execution, enabling dynamic and adaptable behavior. `Conditional statements`, such as `if`, `elif`, and `else`, allow you to execute different blocks of code based on specific conditions, facilitating complex decision-making processes. `Loops`, including `for` and `while`, provide mechanisms for repeating code execution, which is invaluable for tasks that involve processing collections of data or performing actions multiple times. Mastering these flow control constructs is key to writing efficient, readable, and flexible code, as they allow you to tailor your program's behavior to meet varying conditions and requirements."
   ]
  },
  {
   "cell_type": "markdown",
   "metadata": {
    "id": "LDAI1ZVJcwGI"
   },
   "source": [
    "## 0. Conditional Structure\n",
    "\n",
    "### 0.0. Instructions with the if...else clause\n",
    "\n",
    "Conditional statements are operations that the program executes when a logical expression evaluates to `True` or `False` (depending on the case). Conditional statements are defined within an `if...else` clause.\n",
    "\n",
    "The general structure of an `if...else` block is as follows:\n",
    "\n",
    "```python\n",
    "if logical_expression:\n",
    "    statement1\n",
    "    statement2\n",
    "    ...\n",
    "    statementn\n",
    "else:\n",
    "    other_block_of_statements\n",
    "```\n",
    "\n",
    "Note the `:` symbol following the `if` or `else` keyword, which indicates the end of the `if` or `else` declaration and the beginning of the statement definitions. Also, note that the `else` clause is optional, meaning there can be an `if` clause without an `else` clause.\n",
    "\n",
    "It is crucial to observe the essential role of *indentation*, which delineates each block of statements, and the presence of colons after the condition and after the `else` keyword."
   ]
  },
  {
   "cell_type": "code",
   "execution_count": 1,
   "metadata": {
    "id": "rK6kERnlcwGJ"
   },
   "outputs": [
    {
     "name": "stdout",
     "output_type": "stream",
     "text": [
      "a exceeds 100\n",
      "================================================\n",
      "\t\n",
      "x does not exceed 100\n"
     ]
    }
   ],
   "source": [
    "# Instructions with a simple \"if\" clause\n",
    "a = 150\n",
    "if (a > 100):\n",
    "    print(\"a exceeds 100\")\n",
    "\n",
    "print(\"================================================\")\n",
    "print('\\t')\n",
    "\n",
    "\n",
    "# Instructions with the if...else clause\n",
    "x = 65\n",
    "if (x > 70):\n",
    "    print(\"x exceeds 70\")\n",
    "else:\n",
    "    print(\"x does not exceed 100\")\n"
   ]
  },
  {
   "cell_type": "code",
   "execution_count": 20,
   "metadata": {
    "scrolled": true
   },
   "outputs": [
    {
     "name": "stdout",
     "output_type": "stream",
     "text": [
      "Enter your age here:20\n",
      "You're mature and you can drink a few alcohol.\n"
     ]
    }
   ],
   "source": [
    "x = eval(input(\"Enter your age here:\"))\n",
    "if (x<0):\n",
    "    print(\"No negative age exists try to write the correct age.\")\n",
    "elif (x<18):\n",
    "    print(\"You're under 18 years and you're not allowed to drink alcohol.\")\n",
    "elif (x>=18 & x<30):\n",
    "    print(\"You're mature and you can drink a few alcohol.\")\n",
    "elif (x>=30 & x<45):\n",
    "    print(\"You need to eat healthy.\")\n",
    "else:\n",
    "    print(\"You're old don't drink alcohol.\")"
   ]
  },
  {
   "cell_type": "markdown",
   "metadata": {
    "id": "LtNWxdXicwGK"
   },
   "source": [
    "### 0.1. Instructions with the if...elif...else clause\n",
    "\n",
    "The `if...elif...else` clause is used when there are multiple logical conditions, each associated with instructions to execute when they are met.\n",
    "\n",
    "```python\n",
    "    x = 0\n",
    "    if x > 0 :\n",
    "        print(\"x is positive\")\n",
    "    elif x < 0 :\n",
    "        print(\"x is negative\")\n",
    "    else:\n",
    "        print(\"x is zero\")\n",
    "```"
   ]
  },
  {
   "cell_type": "code",
   "execution_count": 2,
   "metadata": {
    "id": "J95rYfIicwGK"
   },
   "outputs": [
    {
     "name": "stdout",
     "output_type": "stream",
     "text": [
      "x is zero\n"
     ]
    }
   ],
   "source": [
    "x = 0\n",
    "if x > 0 :\n",
    "    print(\"x is positive\")\n",
    "elif x < 0 :\n",
    "    print(\"x is negative\")\n",
    "else:\n",
    "        print(\"x is zero\")"
   ]
  },
  {
   "cell_type": "code",
   "execution_count": 22,
   "metadata": {},
   "outputs": [
    {
     "name": "stdout",
     "output_type": "stream",
     "text": [
      "Enter any number you want differ from zero(0):-6\n",
      "-6 is even number.\n"
     ]
    }
   ],
   "source": [
    "n = eval(input(\"Enter any number you want differ from zero(0):\"))\n",
    "if (n%2 ==0):\n",
    "    print(\"{} is even number.\".format(n))\n",
    "else:\n",
    "    print(\"{} is odd number.\".format(n))"
   ]
  },
  {
   "cell_type": "markdown",
   "metadata": {
    "id": "voQgBvQWcwGK"
   },
   "source": [
    "**Note:** As demonstrated by the example above, the `elif` clause can be used as many times as there are alternative conditions between the initial `if` clause and the final `else` clause. However, using `elif` is not mandatory for handling alternative conditions. You can simply use additional `if` clauses instead."
   ]
  },
  {
   "cell_type": "markdown",
   "metadata": {
    "id": "Y-0hV0OlcwGL"
   },
   "source": [
    "### 0.2. Defining nested `if` clauses**\n",
    "\n",
    "The previous examples illustrate first-level `if` clauses. In complex programs, it is very common to have nested `if` clauses, meaning that `if` clauses are defined inside other `if` clauses, sometimes at multiple levels. See the example below:\n",
    "\n",
    "```python\n",
    "a = 15\n",
    "b = 10\n",
    "\n",
    "if a > b:\n",
    "    print(\"a is greater than b\")\n",
    "    if a - b > 5:\n",
    "        print(\"The difference between a and b is greater than 5\")\n",
    "    else:\n",
    "        print(\"The difference between a and b is 5 or less\")\n",
    "else:\n",
    "    print(\"a is not greater than b\")\n",
    "```\n",
    "\n",
    "In this example, there is an `if` statement nested within another `if` statement. This structure allows for more granular control over the conditions and the corresponding actions in your program.\n"
   ]
  },
  {
   "cell_type": "code",
   "execution_count": 3,
   "metadata": {
    "id": "hVe24DK8cwGM"
   },
   "outputs": [
    {
     "name": "stdout",
     "output_type": "stream",
     "text": [
      "a is greater than b\n",
      "The difference between a and b is 5 or less\n"
     ]
    }
   ],
   "source": [
    "a = 15\n",
    "b = 10\n",
    "\n",
    "if a > b:\n",
    "    print(\"a is greater than b\")\n",
    "    if a - b > 5:\n",
    "        print(\"The difference between a and b is greater than 5\")\n",
    "    else:\n",
    "        print(\"The difference between a and b is 5 or less\")\n",
    "else:\n",
    "    print(\"a is not greater than b\")"
   ]
  },
  {
   "cell_type": "code",
   "execution_count": 4,
   "metadata": {
    "id": "By-7nDPhcwGM"
   },
   "outputs": [
    {
     "name": "stdout",
     "output_type": "stream",
     "text": [
      "La classification des animaux est complexe\n"
     ]
    }
   ],
   "source": [
    "embranchement = \"rien\"\n",
    "if embranchement == \"vertébrés\":\n",
    "    if classe == \"mammifères\":\n",
    "        if ordre == \"carnivores\":\n",
    "            if famille == \"félins\":\n",
    "                print(\"Il s’agit peut-être d’un chat\")\n",
    "        print(\"C’est en tous cas un mammifère\")\n",
    "    elif classe == \"oiseaux\":\n",
    "        print(\"c’est peut-être un canari\")\n",
    "print(\"La classification des animaux est complexe\")"
   ]
  },
  {
   "cell_type": "markdown",
   "metadata": {
    "id": "linWJbc0cwGN"
   },
   "source": [
    "## 1. Loop Instructions\n",
    "\n",
    "In Python, there are two main types of loop instructions:\n",
    "\n",
    "1. **`while...` loops**: These loops execute a block of code repeatedly as long as a specified condition remains `True`. They are useful when the number of iterations is not known in advance and depends on dynamic conditions evaluated during execution.\n",
    "\n",
    "2. **`for... in...` loops**: These loops iterate over a sequence (such as a list, tuple, or string) or other iterable objects. They are ideal for iterating through known sequences or ranges of values, allowing for clear and concise iteration over collections or ranges.\n",
    "\n",
    "Both types of loops are fundamental for controlling the flow of execution and repeating tasks efficiently in Python programs.\n",
    "\n",
    "\n",
    "###  1.0. while... loops\n",
    "\n",
    "After introducing conditional structures, we turn our attention to loop structures: these structures allow a block of instructions to be executed multiple times. These repetitions fall into two categories:\n",
    "\n",
    "- **Conditional repetitions**: The block of instructions is repeated as long as a condition is true.\n",
    "\n",
    "- **Unconditional repetitions**: The block of instructions is repeated a specified number of times.\n",
    "\n",
    "The general syntax for defining `while` loop instructions is as follows:\n",
    "\n",
    "```python\n",
    "   Initialize increment variable\n",
    "   while condition:\n",
    "        block_of_instructions\n",
    "        increment\n",
    "```\n",
    "\n",
    "As with the `if` structure, the condition is first evaluated, and if it is true, the block of instructions is executed. However, with the `while` loop, after executing the block of instructions, the condition is evaluated again. This process repeats until the condition becomes false. Therefore, it is essential to define an increment variable whose value changes after each execution so that the condition can eventually become false. This increment is necessary to prevent the instructions from being evaluated indefinitely, creating an infinite loop (or endless loop). Such a situation requires forcibly stopping the program's execution."
   ]
  },
  {
   "cell_type": "code",
   "execution_count": 5,
   "metadata": {
    "id": "OEUgH_3qcwGN"
   },
   "outputs": [
    {
     "name": "stdout",
     "output_type": "stream",
     "text": [
      "The value of x is  1\n",
      "The value of x is  2\n",
      "The value of x is  3\n",
      "The value of x is  4\n",
      "The value of x is  5\n",
      "The value of x is  6\n",
      "The value of x is  7\n",
      "The value of x is  8\n",
      "The value of x is  9\n"
     ]
    }
   ],
   "source": [
    "x = 1 # Initialization of the variable x\n",
    "while (x < 10):\n",
    "    print('The value of x is ', x)\n",
    "    x = x + 1 # Increment of the variable x"
   ]
  },
  {
   "cell_type": "code",
   "execution_count": 6,
   "metadata": {
    "id": "xXMCEbLPcwGN"
   },
   "outputs": [
    {
     "name": "stdout",
     "output_type": "stream",
     "text": [
      "pommes\n",
      "oranges\n",
      "fraises\n",
      "bananes\n"
     ]
    }
   ],
   "source": [
    "fruits = ['pommes', 'oranges', 'fraises', 'bananes']\n",
    "i = 0\n",
    "while i < len(fruits):\n",
    "    print (fruits[i])\n",
    "    i = i + 1"
   ]
  },
  {
   "cell_type": "markdown",
   "metadata": {
    "id": "IE5HNJYncwGO"
   },
   "source": [
    "### 1.1. Loop Instructions: `for... in...`\n",
    "\n",
    "When we want to repeat a block of instructions a specified number of times, we can use a *counter*, which is a variable that counts the number of repetitions and controls the exit of the `while` loop. This is illustrated in the following example, where a function takes an integer `n` as an argument and prints the same message `n` times.\n",
    "\n",
    "To perform such a repetition, we have a loop structure that saves us from initializing the counter `(i = 0)` and incrementing it `(i += 1)`: this is the structure introduced by the `for` keyword.\n",
    "\n",
    "The general syntax for defining `for... in...` loop instructions is as follows:\n",
    "\n",
    "```python\n",
    "   for element in sequence_of_values :\n",
    "        block of instructions\n",
    "```"
   ]
  },
  {
   "cell_type": "code",
   "execution_count": 7,
   "metadata": {
    "id": "vYavbI01cwGO"
   },
   "outputs": [
    {
     "name": "stdout",
     "output_type": "stream",
     "text": [
      "I repeat myself 5 times. (i=0)\n",
      "I repeat myself 5 times. (i=1)\n",
      "I repeat myself 5 times. (i=2)\n",
      "I repeat myself 5 times. (i=3)\n",
      "I repeat myself 5 times. (i=4)\n"
     ]
    }
   ],
   "source": [
    "n = 5\n",
    "for i in range(n):\n",
    "    print('I repeat myself {} times.' ' (i={})'.format(n, i))"
   ]
  },
  {
   "cell_type": "code",
   "execution_count": 8,
   "metadata": {
    "id": "z9tHzZwvcwGO"
   },
   "outputs": [
    {
     "name": "stdout",
     "output_type": "stream",
     "text": [
      "1\n",
      "2\n",
      "3\n",
      "4\n",
      "5\n",
      "6\n",
      "7\n",
      "8\n",
      "9\n",
      "10\n"
     ]
    }
   ],
   "source": [
    "# Instruction dans une boucle « for.. in ... » simple\n",
    "for i in range(1,11) :\n",
    "    print(i)"
   ]
  },
  {
   "cell_type": "code",
   "execution_count": 9,
   "metadata": {
    "id": "kyiYRwkHcwGO"
   },
   "outputs": [
    {
     "name": "stdout",
     "output_type": "stream",
     "text": [
      "H\n",
      "e\n",
      "l\n",
      "l\n",
      "o\n",
      " \n",
      "w\n",
      "o\n",
      "r\n",
      "l\n",
      "d\n"
     ]
    }
   ],
   "source": [
    "# Boucle « for.. in... » sur une chaine de caractères\n",
    "listch = \"Hello world\"\n",
    "for i in listch :\n",
    "    print ( i )"
   ]
  },
  {
   "cell_type": "code",
   "execution_count": 10,
   "metadata": {
    "id": "DXOYpx9AcwGO"
   },
   "outputs": [
    {
     "name": "stdout",
     "output_type": "stream",
     "text": [
      "The condition is not verified for the element 4\n",
      "The condition is verified for the element 5\n",
      "The condition is not verified for the element 6\n"
     ]
    }
   ],
   "source": [
    "# Combining a `for...in...` Loop with an `if` Clause\n",
    "listnb = [4, 5, 6]\n",
    "for i in listnb:\n",
    "    if i == 5:\n",
    "        print(\"The condition is verified for the element\", i)\n",
    "    else :\n",
    "        print(\"The condition is not verified for the element\", i)"
   ]
  },
  {
   "cell_type": "code",
   "execution_count": 11,
   "metadata": {
    "id": "wM8MJQJGcwGP"
   },
   "outputs": [
    {
     "name": "stdout",
     "output_type": "stream",
     "text": [
      "La lettre H est une consonne\n",
      "La lettre e est une voyelle\n",
      "La lettre l est une consonne\n",
      "La lettre l est une consonne\n",
      "La lettre o est une voyelle\n",
      "La lettre   est une consonne\n",
      "La lettre W est une consonne\n",
      "La lettre o est une voyelle\n",
      "La lettre r est une consonne\n",
      "La lettre l est une consonne\n",
      "La lettre d est une consonne\n"
     ]
    }
   ],
   "source": [
    "# Combining a `for...in...` Loop with an `if` Clause\n",
    "mych = \"Hello World\"\n",
    "for lettre in mych :\n",
    "    if lettre in \"AEIOUYaeiouy\":\n",
    "        print ('La lettre', lettre, 'est une voyelle')\n",
    "    else :\n",
    "        print ('La lettre', lettre, 'est une consonne')"
   ]
  },
  {
   "cell_type": "code",
   "execution_count": 12,
   "metadata": {
    "id": "_qFv8YY-cwGP"
   },
   "outputs": [
    {
     "name": "stdout",
     "output_type": "stream",
     "text": [
      "The letter H is a consonant\n",
      "The letter e is a vowel\n",
      "The letter l is a consonant\n",
      "The letter l is a consonant\n",
      "The letter o is a vowel\n",
      "This is likely a space\n",
      "The letter W is a consonant\n",
      "The letter o is a vowel\n",
      "The letter r is a consonant\n",
      "The letter l is a consonant\n",
      "The letter d is a consonant\n"
     ]
    }
   ],
   "source": [
    "# Combining a `for...in...` Loop with an `if` Clause\n",
    "# Considering the `space` character\n",
    "mych = \"Hello World\"\n",
    "for letter in mych:\n",
    "    if letter in \"AEIOUYaeiouy\":\n",
    "        print('The letter', letter, 'is a vowel')\n",
    "    elif letter == \" \":\n",
    "        print(\"This is likely a space\")\n",
    "    else:\n",
    "        print('The letter', letter, 'is a consonant')\n"
   ]
  },
  {
   "cell_type": "code",
   "execution_count": 13,
   "metadata": {
    "id": "RyccbzXJcwGP"
   },
   "outputs": [
    {
     "name": "stdout",
     "output_type": "stream",
     "text": [
      "A mangue costs 49 Rwandan francs.\n",
      "A orange costs 99 Rwandan francs.\n",
      "A pomme costs 15 Rwandan francs.\n",
      "A banane costs 32 Rwandan francs.\n"
     ]
    }
   ],
   "source": [
    "fruits = ['mangue', 'orange', 'pomme', 'banane']\n",
    "costs = [49, 99, 15, 32]\n",
    "for fruit, price in zip(fruits, costs):\n",
    "    print(\"A\", fruit, \"costs\", price, \"Rwandan francs.\")\n"
   ]
  },
  {
   "cell_type": "code",
   "execution_count": 14,
   "metadata": {
    "id": "QH27OInFcwGP"
   },
   "outputs": [
    {
     "name": "stdout",
     "output_type": "stream",
     "text": [
      "A mangue costs 49 Rwandan francs.\n",
      "A orange costs 99 Rwandan francs.\n",
      "A pomme costs 15 Rwandan francs.\n",
      "A banane costs 32 Rwandan francs.\n"
     ]
    }
   ],
   "source": [
    "costs = {'mangue': 49, 'orange': 99, 'pomme': 15, 'banane': 32}\n",
    "for fruit, price in costs.items():\n",
    "    print(\"A\", fruit, \"costs\", price, \"Rwandan francs.\")\n"
   ]
  },
  {
   "cell_type": "markdown",
   "metadata": {
    "id": "0tGc7bKXcwGQ"
   },
   "source": [
    "## 2. List Comprehension\n",
    "\n",
    "In Python, a convenient and expressive syntax for creating lists is provided by list comprehensions. This method allows you to generate lists in a very concise way, often eliminating the need for explicit loops when elements need to be tested or processed before being included in the list.\n",
    "\n",
    "The syntax for defining a list comprehension is similar to the mathematical notation for defining a set comprehension:\n",
    "\n",
    "```python\n",
    "[expression for item in iterable if condition]\n",
    "```\n",
    "\n",
    "Here’s a breakdown of the components:\n",
    "- **`expression`**: The value or transformation to apply to each item.\n",
    "- **`item`**: The variable representing each element in the iterable.\n",
    "- **`iterable`**: The collection or sequence you are iterating over.\n",
    "- **`condition`** (optional): A filter that determines which items to include.\n",
    "\n",
    "**Example:**\n",
    "\n",
    "Suppose you want to create a list of squares for all even numbers between 1 and 10. Using a list comprehension, you can achieve this concisely:\n",
    "\n",
    "```python\n",
    "squares = [x**2 for x in range(1, 11) if x % 2 == 0]\n",
    "print(squares)\n",
    "```\n",
    "\n",
    "**Explanation:**\n",
    "- `x**2` is the expression that computes the square of each item.\n",
    "- `x` is the item variable iterating over the numbers in `range(1, 11)`.\n",
    "- `range(1, 11)` is the iterable providing numbers from 1 to 10.\n",
    "- `if x % 2 == 0` is the condition filtering only even numbers.\n",
    "\n",
    "The output will be:\n",
    "```\n",
    "[4, 16, 36, 64, 100]\n",
    "```\n",
    "\n",
    "This approach is both readable and efficient for generating lists based on specific criteria or transformations."
   ]
  },
  {
   "cell_type": "markdown",
   "metadata": {
    "id": "LfaH112LcwGQ"
   },
   "source": [
    "<center>\n",
    "    <img src=\"images/list-comprehension.png\" width=\"60%\">\n",
    "    </center>"
   ]
  },
  {
   "cell_type": "markdown",
   "metadata": {
    "id": "wRd1P42dcwGQ"
   },
   "source": []
  },
  {
   "cell_type": "code",
   "execution_count": 23,
   "metadata": {
    "id": "xkDDMM5qcwGQ"
   },
   "outputs": [
    {
     "name": "stdout",
     "output_type": "stream",
     "text": [
      "[6, 12, 18, 24, 30]\n",
      "================================================\n",
      "\t\n",
      "[[2, 8], [4, 64], [6, 216], [8, 512], [10, 1000]]\n",
      "================================================\n",
      "\t\n",
      "[18, 24, 30]\n",
      "================================================\n",
      "\t\n",
      "[6, 12, 18]\n",
      "================================================\n",
      "\t\n",
      "[0, 2, 4, 0, 4, 8, 0, 6, 12, 0, 8, 16, 0, 10, 20]\n"
     ]
    }
   ],
   "source": [
    "liste = [2, 4, 6, 8, 10]\n",
    "\n",
    "print([3*x for x in liste])\n",
    "print(\"================================================\")\n",
    "print('\\t')\n",
    "\n",
    "print([[x, x**3] for x in liste])\n",
    "print(\"================================================\")\n",
    "print('\\t')\n",
    "\n",
    "print([3*x for x in liste if x > 5])  # filtering with a condition\n",
    "print(\"================================================\")\n",
    "print('\\t')\n",
    "\n",
    "print([3*x for x in liste if x**2 < 50])  # same as above\n",
    "print(\"================================================\")\n",
    "print('\\t')\n",
    "\n",
    "liste2 = list(range(3))\n",
    "print([x*y for x in liste for y in liste2])\n"
   ]
  },
  {
   "cell_type": "code",
   "execution_count": 24,
   "metadata": {
    "id": "21z2aX0VcwGQ"
   },
   "outputs": [
    {
     "name": "stdout",
     "output_type": "stream",
     "text": [
      "[2000, 2004, 2008, 2012, 2016, 2020, 2024, 2028, 2032, 2036, 2040, 2044, 2048, 2052, 2056, 2060, 2064, 2068, 2072, 2076, 2080, 2084, 2088, 2092, 2096]\n"
     ]
    }
   ],
   "source": [
    "# Here is an example of an efficient way to get a list of leap years within a given range:\n",
    "leap_years = [year for year in range(2000, 2100) if (year % 4 == 0 and year % 100 != 0) or (year % 400 == 0)]\n",
    "\n",
    "print(leap_years)"
   ]
  },
  {
   "cell_type": "code",
   "execution_count": 34,
   "metadata": {},
   "outputs": [
    {
     "name": "stdout",
     "output_type": "stream",
     "text": [
      "2000 is a leap year\n",
      "2004 is a leap year\n",
      "2008 is a leap year\n",
      "2012 is a leap year\n",
      "2016 is a leap year\n",
      "2020 is a leap year\n",
      "2024 is a leap year\n",
      "2028 is a leap year\n",
      "2032 is a leap year\n",
      "2036 is a leap year\n",
      "2040 is a leap year\n",
      "2044 is a leap year\n",
      "2048 is a leap year\n",
      "2052 is a leap year\n",
      "2056 is a leap year\n",
      "2060 is a leap year\n",
      "2064 is a leap year\n",
      "2068 is a leap year\n",
      "2072 is a leap year\n",
      "2076 is a leap year\n",
      "2080 is a leap year\n",
      "2084 is a leap year\n",
      "2088 is a leap year\n",
      "2092 is a leap year\n",
      "2096 is a leap year\n"
     ]
    }
   ],
   "source": [
    "for year in range(2000, 2100):\n",
    "    if (year % 4 == 0 and year % 100 != 0) or (year % 400 == 0):\n",
    "        print(f\"{year} is a leap year\")"
   ]
  },
  {
   "cell_type": "markdown",
   "metadata": {
    "id": "jsp2Gq8tcwGQ"
   },
   "source": [
    "## 3. **Break and Continue statements in `while...` or `for... in...` loops**\n",
    "\n",
    "The reserved keywords `break` and `continue` are used to alter the behavior of `for...in` or `while...` loops. The `break` statement allows for the termination of the loop and the exit from it prematurely, even if the main condition defining the loop remains true. On the other hand, the `continue` statement is used to skip the execution of the remaining instructions in the current iteration of the loop and proceed to the next iteration when the main condition is satisfied. The following examples illustrate their use."
   ]
  },
  {
   "cell_type": "markdown",
   "metadata": {
    "id": "51ZptVblcwGQ"
   },
   "source": [
    "```python\n",
    "# Loop with the break statement\n",
    "for i in range(5):\n",
    "    if i > 2:\n",
    "        break\n",
    "print(i)\n",
    "```"
   ]
  },
  {
   "cell_type": "code",
   "execution_count": 35,
   "metadata": {
    "id": "IBqy8opScwGR"
   },
   "outputs": [
    {
     "name": "stdout",
     "output_type": "stream",
     "text": [
      "3\n"
     ]
    }
   ],
   "source": [
    "for i in range(5):\n",
    "    if i > 2:\n",
    "        break\n",
    "print(i)"
   ]
  },
  {
   "cell_type": "code",
   "execution_count": 59,
   "metadata": {},
   "outputs": [
    {
     "name": "stdout",
     "output_type": "stream",
     "text": [
      "======================================================================\n",
      "The numbers between 1 and 1000 divisible by 2 and 5 are [10, 20, 30, 40, 50, 60, 70, 80, 90, 100, 110, 120, 130, 140, 150, 160, 170, 180, 190, 200, 210, 220, 230, 240, 250, 260, 270, 280, 290, 300, 310, 320, 330, 340, 350, 360, 370, 380, 390, 400, 410, 420, 430, 440, 450, 460, 470, 480, 490, 500, 510, 520, 530, 540, 550, 560, 570, 580, 590, 600, 610, 620, 630, 640, 650, 660, 670, 680, 690, 700, 710, 720, 730, 740, 750, 760, 770, 780, 790, 800, 810, 820, 830, 840, 850, 860, 870, 880, 890, 900, 910, 920, 930, 940, 950, 960, 970, 980, 990, 1000]\n",
      "======================================================================\n",
      "\t\n",
      "The numbers between 1 and 1000 divisible by 2 and 7 are [14, 28, 42, 56, 70, 84, 98, 112, 126, 140, 154, 168, 182, 196, 210, 224, 238, 252, 266, 280, 294, 308, 322, 336, 350, 364, 378, 392, 406, 420, 434, 448, 462, 476, 490, 504, 518, 532, 546, 560, 574, 588, 602, 616, 630, 644, 658, 672, 686, 700, 714, 728, 742, 756, 770, 784, 798, 812, 826, 840, 854, 868, 882, 896, 910, 924, 938, 952, 966, 980, 994]\n",
      "======================================================================\n",
      "\t\n"
     ]
    }
   ],
   "source": [
    "p1 = [i for i in range(1,1001) if (i%2 == 0 and i%5 == 0)]\n",
    "p2 = [i for i in range(1,1001) if (i%2 == 0 and i%7 == 0)]\n",
    "print(\"======================================================================\")\n",
    "print(\"The numbers between 1 and 1000 divisible by 2 and 5 are {}\".format(p1))\n",
    "print(\"======================================================================\")\n",
    "print('\\t')\n",
    "print(f\"The numbers between 1 and 1000 divisible by 2 and 7 are {p2}\")\n",
    "print(\"======================================================================\")\n",
    "print('\\t')\n",
    "# for i in range(1, 1000):\n",
    "#     if (i%2 == 0 & i%5 == 0):\n",
    "#         print(\"The numbers between 1 and 1000 divisible by 2 and 5 are {}\".format(i))\n",
    "#     elif (i%2 == 0 & i%7 == 0):\n",
    "#         print(\"The numbers between 1 and 1000 divisible by 2 and 7 are {[i]}\".format(i))\n"
   ]
  },
  {
   "cell_type": "markdown",
   "metadata": {
    "id": "RPiHVmKHcwGR"
   },
   "source": [
    "**Explanation:**\n",
    "\n",
    "- The loop iterates over a range of values from 0 to 4.\n",
    "- When `i` becomes greater than 2, the `break` statement is executed, which exits the loop immediately.\n",
    "- Therefore, the loop stops, and the value of `i` at the time the loop is exited is printed. In this case, the output will be `3`."
   ]
  },
  {
   "cell_type": "markdown",
   "metadata": {
    "id": "fMGwfjsxcwGR"
   },
   "source": [
    "\n",
    "```python\n",
    "# Loop with the continue statement\n",
    "for i in range(5):\n",
    "    if i == 2:\n",
    "        continue\n",
    "    print(i)\n",
    "```"
   ]
  },
  {
   "cell_type": "code",
   "execution_count": 60,
   "metadata": {
    "id": "Ji4ikGp5cwGR"
   },
   "outputs": [
    {
     "name": "stdout",
     "output_type": "stream",
     "text": [
      "0\n",
      "1\n",
      "3\n",
      "4\n"
     ]
    }
   ],
   "source": [
    "for i in range(5):\n",
    "    if i == 2:\n",
    "        continue\n",
    "    print(i)"
   ]
  },
  {
   "cell_type": "markdown",
   "metadata": {
    "id": "zIRiVMJ2cwGR"
   },
   "source": [
    "**Explanation:**\n",
    "\n",
    "- The loop iterates over a range of values from 0 to 4.\n",
    "- When `i` equals 2, the `continue` statement is executed. This causes the loop to skip the rest of the code inside the loop for this iteration and proceed to the next iteration.\n",
    "- As a result, `2` is not printed. The output will be `0`, `1`, `3`, and `4`."
   ]
  },
  {
   "cell_type": "markdown",
   "metadata": {
    "id": "5ooSjrCBcwGR"
   },
   "source": [
    "<!--NAVIGATION-->\n",
    "<  [3.Iterable Objects or Containers](03_Lecture03.ipynb)| [ToC](Index.ipynb) | [5.Functions, Modules and Packages](05_Lecture05.ipynb)>\n"
   ]
  },
  {
   "cell_type": "markdown",
   "metadata": {},
   "source": [
    "# Practical_4: Flow control"
   ]
  },
  {
   "cell_type": "markdown",
   "metadata": {},
   "source": [
    "---\n",
    "\n",
    "### Exercise 1:\n",
    "Write a Python program that checks if a number is positive or negative."
   ]
  },
  {
   "cell_type": "code",
   "execution_count": 1,
   "metadata": {},
   "outputs": [
    {
     "name": "stdin",
     "output_type": "stream",
     "text": [
      "Enter a number:  8\n"
     ]
    },
    {
     "name": "stdout",
     "output_type": "stream",
     "text": [
      "8.0 is Positive\n"
     ]
    }
   ],
   "source": [
    "n = float(input(\"Enter a number: \"))\n",
    "if n > 0:\n",
    "    print(\"{} is Positive\".format(n))\n",
    "elif n < 0:\n",
    "        print(\"{} is Negative\".format(n))\n",
    "else:\n",
    "    print(\"{} is Zero\".format(n))"
   ]
  },
  {
   "cell_type": "markdown",
   "metadata": {},
   "source": [
    "---\n",
    "\n",
    "### Exercise 2:\n",
    "Write a Python function that checks if a string starts with a vowel."
   ]
  },
  {
   "cell_type": "code",
   "execution_count": 2,
   "metadata": {},
   "outputs": [],
   "source": [
    "def svowel(string):\n",
    "    \n",
    "    vowels = 'aeiouAEIOU'\n",
    "    return string[0] in vowels if string else False\n"
   ]
  },
  {
   "cell_type": "code",
   "execution_count": 4,
   "metadata": {
    "scrolled": true
   },
   "outputs": [
    {
     "data": {
      "text/plain": [
       "True"
      ]
     },
     "execution_count": 4,
     "metadata": {},
     "output_type": "execute_result"
    }
   ],
   "source": [
    "svowel('America')"
   ]
  },
  {
   "cell_type": "code",
   "execution_count": 11,
   "metadata": {},
   "outputs": [],
   "source": [
    "def vowel(s):\n",
    "    vowels = 'aeiouAEIOU' \n",
    "    return s[0] in vowels if s else False"
   ]
  },
  {
   "cell_type": "code",
   "execution_count": 14,
   "metadata": {},
   "outputs": [
    {
     "name": "stdin",
     "output_type": "stream",
     "text": [
      "Enter a string: Kamish\n"
     ]
    }
   ],
   "source": [
    " s = input('Enter a string:')"
   ]
  },
  {
   "cell_type": "code",
   "execution_count": 15,
   "metadata": {},
   "outputs": [
    {
     "data": {
      "text/plain": [
       "False"
      ]
     },
     "execution_count": 15,
     "metadata": {},
     "output_type": "execute_result"
    }
   ],
   "source": [
    "vowel(s)"
   ]
  },
  {
   "cell_type": "markdown",
   "metadata": {},
   "source": [
    "---\n",
    "\n",
    "### Exercise 3:\n",
    "Write a Python program that takes a list of integers and prints \"Even\" for each even number and \"Odd\" for each odd number."
   ]
  },
  {
   "cell_type": "code",
   "execution_count": 16,
   "metadata": {},
   "outputs": [
    {
     "name": "stdin",
     "output_type": "stream",
     "text": [
      "Enter a list of integers separated by space:  23 12 2 4 -1 -4 5 6 7 9\n"
     ]
    },
    {
     "name": "stdout",
     "output_type": "stream",
     "text": [
      "23: Odd\n",
      "12: Even\n",
      "2: Even\n",
      "4: Even\n",
      "-1: Odd\n",
      "-4: Even\n",
      "5: Odd\n",
      "6: Even\n",
      "7: Odd\n",
      "9: Odd\n"
     ]
    }
   ],
   "source": [
    "n = [int(x) for x in input(\"Enter a list of integers separated by space: \").split()]\n",
    "for ni in n:\n",
    "    if ni % 2 == 0:\n",
    "        print(f\"{ni}: Even\")\n",
    "    else:\n",
    "        print(f\"{ni}: Odd\")"
   ]
  },
  {
   "cell_type": "markdown",
   "metadata": {},
   "source": [
    "---\n",
    "\n",
    "### Exercise 4:\n",
    "Write a Python program that checks if a given year is a leap year."
   ]
  },
  {
   "cell_type": "code",
   "execution_count": 17,
   "metadata": {},
   "outputs": [
    {
     "name": "stdin",
     "output_type": "stream",
     "text": [
      "Enter a year:  2001\n"
     ]
    },
    {
     "name": "stdout",
     "output_type": "stream",
     "text": [
      "2001 is not a leap year\n"
     ]
    }
   ],
   "source": [
    "year = int(input(\"Enter a year: \"))\n",
    "if (year % 4 == 0 and year % 100 != 0) or (year % 400 == 0):\n",
    "    print(f\"{year} is a leap year\")\n",
    "else:\n",
    "    print(f\"{year} is not a leap year\")"
   ]
  },
  {
   "cell_type": "markdown",
   "metadata": {},
   "source": [
    "---\n",
    "\n",
    "### Exercise 5:\n",
    "Write a Python function that checks if a number is divisible by both 3 and 5."
   ]
  },
  {
   "cell_type": "code",
   "execution_count": 18,
   "metadata": {},
   "outputs": [],
   "source": [
    "def Dby35(X):\n",
    "    return X % 3 == 0 and X % 5 == 0"
   ]
  },
  {
   "cell_type": "code",
   "execution_count": 20,
   "metadata": {},
   "outputs": [
    {
     "data": {
      "text/plain": [
       "True"
      ]
     },
     "execution_count": 20,
     "metadata": {},
     "output_type": "execute_result"
    }
   ],
   "source": [
    "Dby35(15)"
   ]
  },
  {
   "cell_type": "code",
   "execution_count": 21,
   "metadata": {},
   "outputs": [
    {
     "data": {
      "text/plain": [
       "False"
      ]
     },
     "execution_count": 21,
     "metadata": {},
     "output_type": "execute_result"
    }
   ],
   "source": [
    "Dby35(6)"
   ]
  },
  {
   "cell_type": "markdown",
   "metadata": {},
   "source": [
    "---\n",
    "\n",
    "### Exercise 6:\n",
    "Write a Python program that prints \"Hot\" if the temperature is above 30, \"Warm\" if it is between 15 and 30, and \"Cold\" if it is below 15."
   ]
  },
  {
   "cell_type": "code",
   "execution_count": 22,
   "metadata": {},
   "outputs": [
    {
     "name": "stdin",
     "output_type": "stream",
     "text": [
      "Enter the temperature:  29\n"
     ]
    },
    {
     "name": "stdout",
     "output_type": "stream",
     "text": [
      "Warm\n"
     ]
    }
   ],
   "source": [
    "temperature = float(input(\"Enter the temperature: \"))\n",
    "if temperature > 30:\n",
    "    print(\"Hot\")\n",
    "elif 15 <= temperature <= 30:\n",
    "    print(\"Warm\")\n",
    "else:\n",
    "    print(\"Cold\")"
   ]
  },
  {
   "cell_type": "markdown",
   "metadata": {},
   "source": [
    "---\n",
    "\n",
    "### Exercise 7:\n",
    "Write a Python program that checks if a string contains the letter 'a'."
   ]
  },
  {
   "cell_type": "code",
   "execution_count": 23,
   "metadata": {},
   "outputs": [
    {
     "name": "stdin",
     "output_type": "stream",
     "text": [
      "Enter a string:  Muriro\n"
     ]
    },
    {
     "name": "stdout",
     "output_type": "stream",
     "text": [
      "The string does not contain the letter 'a'\n"
     ]
    }
   ],
   "source": [
    "st = input(\"Enter a string: \")\n",
    "if 'a' in st or 'A' in st:\n",
    "    print(\"The string contains the letter 'a'\")\n",
    "else:\n",
    "    print(\"The string does not contain the letter 'a'\")"
   ]
  },
  {
   "cell_type": "markdown",
   "metadata": {},
   "source": [
    "---\n",
    "\n",
    "### Exercise 8:\n",
    "Write a Python function that checks if two numbers are equal, or which one is larger."
   ]
  },
  {
   "cell_type": "code",
   "execution_count": 26,
   "metadata": {},
   "outputs": [],
   "source": [
    "def Equalc(n,m):\n",
    "    if n == m:\n",
    "         print(\"The numbers are equal\")\n",
    "    elif n > m:\n",
    "         print(f\"{n} is larger than {m}\")\n",
    "    else:\n",
    "         print(f\"{m} is larger than {n}\")"
   ]
  },
  {
   "cell_type": "code",
   "execution_count": 27,
   "metadata": {},
   "outputs": [
    {
     "name": "stdout",
     "output_type": "stream",
     "text": [
      "3 is larger than 2\n"
     ]
    }
   ],
   "source": [
    "Equalc(2,3)"
   ]
  },
  {
   "cell_type": "markdown",
   "metadata": {},
   "source": [
    "---\n",
    "\n",
    "### Exercise 9:\n",
    "Write a Python program that checks if a list is empty."
   ]
  },
  {
   "cell_type": "code",
   "execution_count": 30,
   "metadata": {},
   "outputs": [
    {
     "name": "stdin",
     "output_type": "stream",
     "text": [
      "Enter a list of elements separated by space:     \n"
     ]
    },
    {
     "name": "stdout",
     "output_type": "stream",
     "text": [
      "The list is empty\n"
     ]
    }
   ],
   "source": [
    "l = input(\"Enter a list of elements separated by space: \").split()\n",
    "if len(l) == 0:\n",
    "    print(\"The list is empty\")\n",
    "else:\n",
    "    print(\"The list is not empty\")"
   ]
  },
  {
   "cell_type": "markdown",
   "metadata": {},
   "source": [
    "---\n",
    "\n",
    "### Exercise 10:\n",
    "Write a Python function that takes two strings and checks if they are anagrams."
   ]
  },
  {
   "cell_type": "code",
   "execution_count": 31,
   "metadata": {},
   "outputs": [],
   "source": [
    "def anagr(s1,s2):\n",
    "    if sorted(s1) == sorted(s2):\n",
    "         print(\"The strings are anagrams\")\n",
    "    else:\n",
    "         print(\"The strings are not anagrams\")"
   ]
  },
  {
   "cell_type": "code",
   "execution_count": 32,
   "metadata": {},
   "outputs": [
    {
     "name": "stdin",
     "output_type": "stream",
     "text": [
      "Enter the first string:  Mukunda iki?\n",
      "Enter the second string:  Amahoro masa\n"
     ]
    },
    {
     "name": "stdout",
     "output_type": "stream",
     "text": [
      "The strings are not anagrams\n"
     ]
    }
   ],
   "source": [
    "s1 = input(\"Enter the first string: \").replace(\" \", \"\").lower()\n",
    "s2 = input(\"Enter the second string: \").replace(\" \", \"\").lower()\n",
    "anagr(s1,s2)"
   ]
  },
  {
   "cell_type": "markdown",
   "metadata": {},
   "source": [
    "---\n",
    "\n",
    "### Exercise 11:\n",
    "Write a Python program that checks if a number is prime."
   ]
  },
  {
   "cell_type": "code",
   "execution_count": 35,
   "metadata": {},
   "outputs": [
    {
     "name": "stdin",
     "output_type": "stream",
     "text": [
      "Enter a number:  11\n"
     ]
    },
    {
     "name": "stdout",
     "output_type": "stream",
     "text": [
      "11 is a prime number\n"
     ]
    }
   ],
   "source": [
    "num = int(input(\"Enter a number: \"))\n",
    "if num > 1:\n",
    "    for i in range(2, int(num**0.5) + 1):\n",
    "        if num % i == 0:\n",
    "            print(f\"{num} is not a prime number\")\n",
    "            break\n",
    "    else:\n",
    "        print(f\"{num} is a prime number\")\n",
    "else:\n",
    "    print(f\"{num} is not a prime number\")"
   ]
  },
  {
   "cell_type": "markdown",
   "metadata": {},
   "source": [
    "---\n",
    "\n",
    "### Exercise 12:\n",
    "Write a Python program that checks if a list of numbers is sorted in ascending order."
   ]
  },
  {
   "cell_type": "code",
   "execution_count": 36,
   "metadata": {},
   "outputs": [
    {
     "name": "stdin",
     "output_type": "stream",
     "text": [
      "Enter a list of numbers separated by space:  8 7 10 -34\n"
     ]
    },
    {
     "name": "stdout",
     "output_type": "stream",
     "text": [
      "The list is not sorted in ascending order\n"
     ]
    }
   ],
   "source": [
    "lst = list(map(int, input(\"Enter a list of numbers separated by space: \").split()))\n",
    "if lst == sorted(lst):\n",
    "    print(\"The list is sorted in ascending order\")\n",
    "else:\n",
    "    print(\"The list is not sorted in ascending order\")"
   ]
  },
  {
   "cell_type": "markdown",
   "metadata": {},
   "source": [
    "---\n",
    "\n",
    "### Exercise 13:\n",
    "Write a Python function that takes a character and checks if it is a digit."
   ]
  },
  {
   "cell_type": "code",
   "execution_count": 41,
   "metadata": {},
   "outputs": [],
   "source": [
    "def char_check(c):\n",
    "    if c.isdigit():\n",
    "        print(f\"{c} is a digit\")\n",
    "    else:\n",
    "        print(f\"{c} is not a digit\")"
   ]
  },
  {
   "cell_type": "code",
   "execution_count": 43,
   "metadata": {},
   "outputs": [
    {
     "name": "stdin",
     "output_type": "stream",
     "text": [
      "Enter a character:  p\n"
     ]
    },
    {
     "name": "stdout",
     "output_type": "stream",
     "text": [
      "p is not a digit\n"
     ]
    }
   ],
   "source": [
    "c = input(\"Enter a character: \")\n",
    "char_check(c)"
   ]
  },
  {
   "cell_type": "markdown",
   "metadata": {},
   "source": [
    "---\n",
    "\n",
    "### Exercise 14:\n",
    "Write a Python function that checks if a string contains only uppercase letters."
   ]
  },
  {
   "cell_type": "code",
   "execution_count": 44,
   "metadata": {},
   "outputs": [],
   "source": [
    "def Upper_check(st):\n",
    "    if st.isupper():\n",
    "       print(\"The string contains only uppercase letters\")\n",
    "    else:\n",
    "        print(\"The string does not contain only uppercase letters\")"
   ]
  },
  {
   "cell_type": "code",
   "execution_count": 45,
   "metadata": {},
   "outputs": [
    {
     "name": "stdin",
     "output_type": "stream",
     "text": [
      "Enter a string:  Market\n"
     ]
    },
    {
     "name": "stdout",
     "output_type": "stream",
     "text": [
      "The string does not contain only uppercase letters\n"
     ]
    }
   ],
   "source": [
    "st = input(\"Enter a string: \")\n",
    "Upper_check(st)"
   ]
  },
  {
   "cell_type": "markdown",
   "metadata": {},
   "source": [
    "---\n",
    "\n",
    "### Exercise 15:\n",
    "Write a Python program that checks if a number is a multiple of 10."
   ]
  },
  {
   "cell_type": "code",
   "execution_count": 46,
   "metadata": {},
   "outputs": [
    {
     "name": "stdin",
     "output_type": "stream",
     "text": [
      "Enter a number:  6\n"
     ]
    },
    {
     "name": "stdout",
     "output_type": "stream",
     "text": [
      "6 is not a multiple of 10\n"
     ]
    }
   ],
   "source": [
    "n1 = int(input(\"Enter a number: \"))\n",
    "if n1 % 10 == 0:\n",
    "    print(f\"{n1} is a multiple of 10\")\n",
    "else:\n",
    "    print(f\"{n1} is not a multiple of 10\")"
   ]
  },
  {
   "cell_type": "markdown",
   "metadata": {},
   "source": [
    "---\n",
    "\n",
    "### Exercise 16:\n",
    "Write a Python function that checks if a list contains any duplicates."
   ]
  },
  {
   "cell_type": "code",
   "execution_count": 47,
   "metadata": {},
   "outputs": [],
   "source": [
    "def dupl(L):\n",
    "    if len(L) != len(set(L)):\n",
    "        print(\"The list contains duplicates\")\n",
    "    else:\n",
    "        print(\"The list does not contain duplicates\")"
   ]
  },
  {
   "cell_type": "code",
   "execution_count": 49,
   "metadata": {},
   "outputs": [
    {
     "name": "stdin",
     "output_type": "stream",
     "text": [
      "Enter a list of numbers separated by space:  2 9 -9 7 2\n"
     ]
    },
    {
     "name": "stdout",
     "output_type": "stream",
     "text": [
      "The list contains duplicates\n"
     ]
    }
   ],
   "source": [
    "L = list(map(int, input(\"Enter a list of numbers separated by space: \").split()))\n",
    "dupl(L)"
   ]
  },
  {
   "cell_type": "markdown",
   "metadata": {},
   "source": [
    "---\n",
    "\n",
    "### Exercise 17:\n",
    "Write a Python program that prints \"Teenager\" if the age is between 13 and 19, otherwise it prints \"Not a teenager.\""
   ]
  },
  {
   "cell_type": "code",
   "execution_count": 50,
   "metadata": {},
   "outputs": [
    {
     "name": "stdin",
     "output_type": "stream",
     "text": [
      "Enter the age:  14\n"
     ]
    },
    {
     "name": "stdout",
     "output_type": "stream",
     "text": [
      "Teenager\n"
     ]
    }
   ],
   "source": [
    "age = int(input(\"Enter the age: \"))\n",
    "if 13 <= age <= 19:\n",
    "    print(\"Teenager\")\n",
    "else:\n",
    "    print(\"Not a teenager\")"
   ]
  },
  {
   "cell_type": "markdown",
   "metadata": {},
   "source": [
    "---\n",
    "\n",
    "### Exercise 18:\n",
    "Write a Python function that checks if a list contains an element greater than 100."
   ]
  },
  {
   "cell_type": "code",
   "execution_count": null,
   "metadata": {},
   "outputs": [],
   "source": [
    "# Exercise 18\n",
    "lst = list(map(int, input(\"Enter a list of numbers separated by space: \").split()))\n",
    "if any(num > 100 for num in lst):\n",
    "    print(\"The list contains an element greater than 100\")\n",
    "else:\n",
    "    print(\"The list does not contain an element greater than 100\")\n"
   ]
  },
  {
   "cell_type": "code",
   "execution_count": 51,
   "metadata": {},
   "outputs": [],
   "source": [
    "def g100(L):\n",
    "    if any(d > 100 for d in L):\n",
    "        print(\"The list contains an element greater than 100\")\n",
    "    else:\n",
    "         print(\"The list does not contain an element greater than 100\")"
   ]
  },
  {
   "cell_type": "code",
   "execution_count": 52,
   "metadata": {},
   "outputs": [
    {
     "name": "stdin",
     "output_type": "stream",
     "text": [
      "Enter a list of numbers separated by space:  1 2 3 -100 120 9 -4\n"
     ]
    },
    {
     "name": "stdout",
     "output_type": "stream",
     "text": [
      "The list contains an element greater than 100\n"
     ]
    }
   ],
   "source": [
    "L = list(map(int, input(\"Enter a list of numbers separated by space: \").split()))\n",
    "g100(L)"
   ]
  },
  {
   "cell_type": "markdown",
   "metadata": {},
   "source": [
    "---\n",
    "\n",
    "### Exercise 19:\n",
    "Write a Python program that checks if a number is even or odd."
   ]
  },
  {
   "cell_type": "code",
   "execution_count": 54,
   "metadata": {},
   "outputs": [
    {
     "name": "stdin",
     "output_type": "stream",
     "text": [
      "Enter a number:  13245\n"
     ]
    },
    {
     "name": "stdout",
     "output_type": "stream",
     "text": [
      "13245 is odd\n"
     ]
    }
   ],
   "source": [
    "e = int(input(\"Enter a number: \"))\n",
    "if e % 2 == 0:\n",
    "    print(f\"{e} is even\")\n",
    "else:\n",
    "    print(f\"{e} is odd\")"
   ]
  },
  {
   "cell_type": "markdown",
   "metadata": {},
   "source": [
    "---\n",
    "\n",
    "### Exercise 20:\n",
    "Write a Python function that checks if a string ends with a punctuation mark."
   ]
  },
  {
   "cell_type": "code",
   "execution_count": 55,
   "metadata": {},
   "outputs": [],
   "source": [
    "import string\n",
    "punctuation = string.punctuation"
   ]
  },
  {
   "cell_type": "code",
   "execution_count": 58,
   "metadata": {},
   "outputs": [],
   "source": [
    "def punct_m(t):\n",
    "    if t[-1] in punctuation:\n",
    "       print(\"The string ends with a punctuation mark\")\n",
    "    else:\n",
    "        print(\"The string does not end with a punctuation mark\")"
   ]
  },
  {
   "cell_type": "code",
   "execution_count": 59,
   "metadata": {},
   "outputs": [
    {
     "name": "stdin",
     "output_type": "stream",
     "text": [
      "Enter a string:  Good!\n"
     ]
    },
    {
     "name": "stdout",
     "output_type": "stream",
     "text": [
      "The string ends with a punctuation mark\n"
     ]
    }
   ],
   "source": [
    "t = input(\"Enter a string: \")\n",
    "punct_m(t)"
   ]
  },
  {
   "cell_type": "markdown",
   "metadata": {},
   "source": [
    "---\n",
    "\n",
    "### Exercise 21:\n",
    "Write a Python program that prints \"Yes\" if the number is between 1 and 100, otherwise it prints \"No.\""
   ]
  },
  {
   "cell_type": "code",
   "execution_count": 60,
   "metadata": {},
   "outputs": [
    {
     "name": "stdin",
     "output_type": "stream",
     "text": [
      "Enter a number:  45\n"
     ]
    },
    {
     "name": "stdout",
     "output_type": "stream",
     "text": [
      "Yes\n"
     ]
    }
   ],
   "source": [
    "num = int(input(\"Enter a number: \"))\n",
    "if 1 <= num <= 100:\n",
    "    print(\"Yes\")\n",
    "else:\n",
    "    print(\"No\")"
   ]
  }
 ],
 "metadata": {
  "colab": {
   "include_colab_link": true,
   "provenance": []
  },
  "kernelspec": {
   "display_name": "Python 3 (ipykernel)",
   "language": "python",
   "name": "python3"
  },
  "language_info": {
   "codemirror_mode": {
    "name": "ipython",
    "version": 3
   },
   "file_extension": ".py",
   "mimetype": "text/x-python",
   "name": "python",
   "nbconvert_exporter": "python",
   "pygments_lexer": "ipython3",
   "version": "3.12.4"
  }
 },
 "nbformat": 4,
 "nbformat_minor": 4
}
