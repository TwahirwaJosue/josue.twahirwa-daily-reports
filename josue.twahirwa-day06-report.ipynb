{
 "cells": [
  {
   "cell_type": "markdown",
   "id": "07399040-24d8-4746-870b-7de15d25cde7",
   "metadata": {},
   "source": [
    "## 1. Summations and Products\n",
    "\n",
    "### 1 Compute the following expressions for a natural number `n` chosen by the user:\n",
    "\n",
    "#### (i)\n",
    "$$\n",
    "\\sum_{i=0}^{n-1} (i+3) \\quad \\text{where} \\ i \\ \\text{is odd}\n",
    "$$"
   ]
  },
  {
   "cell_type": "code",
   "execution_count": 25,
   "id": "07159b4e-36b3-4362-9877-74b746a21ccb",
   "metadata": {},
   "outputs": [
    {
     "name": "stdin",
     "output_type": "stream",
     "text": [
      "Enter a natural number n: 5\n"
     ]
    },
    {
     "name": "stdout",
     "output_type": "stream",
     "text": [
      "The sum is 10\n"
     ]
    }
   ],
   "source": [
    "n = int(input(\"Enter a natural number n:\"))\n",
    "s = sum(i+3 for i in range(n) if i%2 != 0 )\n",
    "print(f\"The sum is {s}\")"
   ]
  },
  {
   "cell_type": "markdown",
   "id": "60e1af92-9a54-4960-b2e8-99a534cd34a9",
   "metadata": {},
   "source": [
    "#### (ii)\n",
    "$$\n",
    "\\prod_{i=0}^{n-1} (i+3) \\quad \\text{where} \\ i \\ \\text{is even}\n",
    "$$"
   ]
  },
  {
   "cell_type": "code",
   "execution_count": 26,
   "id": "8b47a1f2-b0db-4e55-ab36-01fed4b8f8a4",
   "metadata": {},
   "outputs": [
    {
     "name": "stdin",
     "output_type": "stream",
     "text": [
      "Enter a natural number n: 6\n"
     ]
    },
    {
     "name": "stdout",
     "output_type": "stream",
     "text": [
      "The product is 105\n"
     ]
    }
   ],
   "source": [
    "n = int(input(\"Enter a natural number n:\"))\n",
    "p=1\n",
    "for i in range(n):\n",
    "    if i%2 == 0 :\n",
    "        p *= (i+3)\n",
    "print(f\"The product is {p}\")"
   ]
  },
  {
   "cell_type": "markdown",
   "id": "49c7f9fe-301a-4100-9729-c30130698c22",
   "metadata": {},
   "source": [
    "---\n",
    "\n",
    "### 2 Write a program that reads the number of the day of the week (from 0 to 6). \n",
    "If it is a working day, then the program will write the name of the corresponding day. Otherwise, it will write the word **\"Weekend\"**."
   ]
  },
  {
   "cell_type": "code",
   "execution_count": 27,
   "id": "3c2ea03d-309e-4a1b-a58b-88a4a72e2788",
   "metadata": {},
   "outputs": [
    {
     "name": "stdin",
     "output_type": "stream",
     "text": [
      "Enter the number of day of week (from 0 t0 6): 4\n"
     ]
    },
    {
     "name": "stdout",
     "output_type": "stream",
     "text": [
      "Today is Friday it's a working day\n"
     ]
    }
   ],
   "source": [
    "x = eval(input(\"Enter the number of day of week (from 0 t0 6):\"))\n",
    "if x == 0:\n",
    "    print(\"Today is Monday it's a working day\")\n",
    "elif x == 1:\n",
    "    print(\"Today is Tuesday it's a working day\")\n",
    "elif x == 2:\n",
    "    print(\"Today is Wednesday  it's a working day\")\n",
    "elif x == 3:\n",
    "    print(\"Today is Thursday it's a working day\")\n",
    "elif x == 4:\n",
    "    print(\"Today is Friday it's a working day\")\n",
    "elif x == 5:\n",
    "    print(\"Today is saturday it's a weekend\")\n",
    "elif x == 6:\n",
    "    print(\"Today is Sunday it's a weekend\")\n",
    "else:\n",
    "    print(\"You entered incorrect input.\")"
   ]
  },
  {
   "cell_type": "markdown",
   "id": "8bb1cd00-b418-40ac-a88a-72c691dfb342",
   "metadata": {},
   "source": [
    "---\n",
    "\n",
    "### 3 Make a program that, given a month number (from 0 to 11), indicates how many days it has (28, 30, or 31), ignoring leap years."
   ]
  },
  {
   "cell_type": "code",
   "execution_count": 28,
   "id": "c184bca3-26a0-4b72-a4dd-dbab78e5a9d8",
   "metadata": {},
   "outputs": [
    {
     "name": "stdin",
     "output_type": "stream",
     "text": [
      "Enter a number from 0 to 11 representing a month: 8\n"
     ]
    },
    {
     "name": "stdout",
     "output_type": "stream",
     "text": [
      "Month represented by 8 has 30 days\n"
     ]
    }
   ],
   "source": [
    "days = [31, 28, 31, 30, 31, 30, 30, 31, 30, 31, 30, 31]\n",
    "num = int(input(\"Enter a number from 0 to 11 representing a month:\"))\n",
    "if 0 <= num <=11:\n",
    "    print(f\"Month represented by {num} has {days[num]} days\")"
   ]
  },
  {
   "cell_type": "markdown",
   "id": "48d53ac8-eb3d-42c0-a380-b4fa2ba728e3",
   "metadata": {},
   "source": [
    "---\n",
    "\n",
    "### 4 Write two versions of Python code that display your name 3 times:\n",
    "- One version with a **for loop**.\n",
    "- One version with a **while loop**."
   ]
  },
  {
   "cell_type": "markdown",
   "id": "9e044f61-8b77-4ad8-befe-cb1e0ec2d0af",
   "metadata": {},
   "source": [
    "#### For Loop"
   ]
  },
  {
   "cell_type": "code",
   "execution_count": 29,
   "id": "2dc3e367-df83-4a38-a596-fed77ac7af82",
   "metadata": {},
   "outputs": [
    {
     "name": "stdout",
     "output_type": "stream",
     "text": [
      "Josue TWAHIRWA\n",
      "Josue TWAHIRWA\n",
      "Josue TWAHIRWA\n"
     ]
    }
   ],
   "source": [
    "# For loop\n",
    "for i in range(3):\n",
    "    print(\"Josue TWAHIRWA\")"
   ]
  },
  {
   "cell_type": "markdown",
   "id": "a586c86a-a823-4445-9c97-3f01df85a675",
   "metadata": {},
   "source": [
    "#### While Loop"
   ]
  },
  {
   "cell_type": "code",
   "execution_count": 30,
   "id": "c5c0cb0b-0a61-4be6-b77f-eefc0e993eea",
   "metadata": {},
   "outputs": [
    {
     "name": "stdout",
     "output_type": "stream",
     "text": [
      "Josue TWAHIRWA\n",
      "Josue TWAHIRWA\n",
      "Josue TWAHIRWA\n"
     ]
    }
   ],
   "source": [
    "# while loop\n",
    "i =0\n",
    "while i<3:\n",
    "    print(\"Josue TWAHIRWA\")\n",
    "    i += 1"
   ]
  },
  {
   "cell_type": "markdown",
   "id": "101f497a-fdd4-468c-969c-049a86c90e41",
   "metadata": {},
   "source": [
    "---\n",
    "\n",
    "### 5 Given two numbers $ a_0 $ and $ a_1 $, the Fibonacci sequence they generate is constructed from the recursion formula:\n",
    "\n",
    "$$\n",
    "a_{n+1} = a_n + a_{n-1}\n",
    "$$\n",
    "\n",
    "Calculate the first 15 terms of a Fibonacci sequence, asking the user for the initial values."
   ]
  },
  {
   "cell_type": "code",
   "execution_count": 31,
   "id": "9954b880-d5e7-475e-b7da-50dccb8b3e5c",
   "metadata": {},
   "outputs": [
    {
     "name": "stdin",
     "output_type": "stream",
     "text": [
      "Enter the first number to be used for Fibonacci: 1\n",
      "Enter the second number to be used for Fibonacci: 2\n"
     ]
    },
    {
     "name": "stdout",
     "output_type": "stream",
     "text": [
      "The first 15 Fibonacci numbers are [1, 2, 3, 5, 8, 13, 21, 34, 55, 89, 144, 233, 377, 610, 987]\n"
     ]
    }
   ],
   "source": [
    "a0 = int(input(\"Enter the first number to be used for Fibonacci:\"))\n",
    "a1 = int(input(\"Enter the second number to be used for Fibonacci:\"))\n",
    "Fib = [a0, a1]\n",
    "for i in range(3,16):\n",
    "    x = Fib[-1]+Fib[-2]\n",
    "    Fib.append(x)\n",
    "print(\"The first 15 Fibonacci numbers are\",Fib)"
   ]
  },
  {
   "cell_type": "markdown",
   "id": "f97a0bac-b96b-48da-9c74-f4ef200886b8",
   "metadata": {},
   "source": [
    "---\n",
    "\n",
    "### 6 Compute the first 30 terms of the sequence defined by:\n",
    "\n",
    "$$\n",
    "2x_{n+2} - x_{n+1} - 6x_n = 0\n",
    "$$\n",
    "\n",
    "Given any two initial values $ x_0 $ and $ x_1 $."
   ]
  },
  {
   "cell_type": "code",
   "execution_count": 32,
   "id": "f74136eb-829f-4ecb-9f95-263bc4cd54f9",
   "metadata": {},
   "outputs": [
    {
     "name": "stdin",
     "output_type": "stream",
     "text": [
      "Enter the first number: 1\n",
      "Enter the second number: 5\n"
     ]
    },
    {
     "name": "stdout",
     "output_type": "stream",
     "text": [
      "The first 30 terms of a sequence are [1, 5, 5.5, 17.75, 25.375, 65.9375, 109.09375, 252.359375, 453.4609375, 983.80859375, 1852.287109375, 3877.5693359375, 7495.64599609375, 15380.531005859375, 30177.203491210938, 61230.194763183594, 121146.70785522461, 244263.9382171631, 485572.0926742554, 975577.860988617, 1944505.2085170746, 3898986.187224388, 7783008.719163418, 15588462.921254873, 31143257.61811769, 62337017.572823465, 124598281.6407648, 249310193.5388528, 498449941.6917208, 997155551.4624188]\n"
     ]
    }
   ],
   "source": [
    "x0 = int(input(\"Enter the first number:\"))\n",
    "x1 = int(input(\"Enter the second number:\"))\n",
    "X = [x0, x1]\n",
    "for i in range(2,30):\n",
    "    y = (X[-1]+ 6*X[-2])/2\n",
    "    X.append(y)\n",
    "print(\"The first 30 terms of a sequence are\",X)"
   ]
  },
  {
   "cell_type": "markdown",
   "id": "96dfacca-f2aa-4070-a8c3-8dfc93995ec9",
   "metadata": {},
   "source": [
    "---\n",
    "\n",
    "### 7 Leap Year Check:\n",
    "\n",
    "- **(a)** Write Python code to determine whether a year is a leap year.\n",
    "- **(b)** Write the code using only **logical operators** (no conditional branching)."
   ]
  },
  {
   "cell_type": "markdown",
   "id": "608793ae-aab5-49b2-9763-4015b5f7ecad",
   "metadata": {},
   "source": [
    "#### Conditional"
   ]
  },
  {
   "cell_type": "code",
   "execution_count": 33,
   "id": "d4e1f020-af91-4d76-a176-10f007cab164",
   "metadata": {},
   "outputs": [
    {
     "name": "stdin",
     "output_type": "stream",
     "text": [
      "Enter a year:  2001\n"
     ]
    },
    {
     "name": "stdout",
     "output_type": "stream",
     "text": [
      "2001 is not a leap year.\n"
     ]
    }
   ],
   "source": [
    "year = int(input(\"Enter a year: \"))\n",
    "\n",
    "if (year % 4 == 0 and year % 100 != 0) or (year % 400 == 0):\n",
    "    print(f\"{year} is a leap year.\")\n",
    "else:\n",
    "    print(f\"{year} is not a leap year.\")"
   ]
  },
  {
   "cell_type": "markdown",
   "id": "da849050-a33e-4575-a7fa-1530f42e8fe3",
   "metadata": {},
   "source": [
    "#### Logical Operators"
   ]
  },
  {
   "cell_type": "code",
   "execution_count": 13,
   "id": "b376e740-cf81-4122-bcb8-70e065326206",
   "metadata": {},
   "outputs": [
    {
     "name": "stdin",
     "output_type": "stream",
     "text": [
      "Enter a year:  2003\n"
     ]
    },
    {
     "name": "stdout",
     "output_type": "stream",
     "text": [
      "2003 is not a leap year.\n"
     ]
    }
   ],
   "source": [
    "year = int(input(\"Enter a year: \"))\n",
    "leap = (year % 4 == 0) and ((year % 100 != 0) or (year % 400 == 0))\n",
    "print(f\"{year} is a leap year.\" if leap else f\"{year} is not a leap year.\")"
   ]
  },
  {
   "cell_type": "markdown",
   "id": "e80f5f45-1d31-45a2-a88a-245ff93206d4",
   "metadata": {},
   "source": [
    "---\n",
    "\n",
    "### 8 Sum of Squares of the First `n` Natural Numbers:\n",
    "\n",
    "- **(a)** Write Python code to compute the sum of the squares of the first `n` natural numbers. \n",
    "  - One version with a **for loop**.\n",
    "    "
   ]
  },
  {
   "cell_type": "code",
   "execution_count": 34,
   "id": "5eeff20b-7666-4334-9766-a86d021b0845",
   "metadata": {},
   "outputs": [
    {
     "name": "stdin",
     "output_type": "stream",
     "text": [
      "Enter a natural number n: 7\n"
     ]
    },
    {
     "name": "stdout",
     "output_type": "stream",
     "text": [
      "The sum of squares of first 7 natural numbers is 140\n"
     ]
    }
   ],
   "source": [
    "n = int(input(\"Enter a natural number n:\"))\n",
    "sq = sum(i**2 for i in range(1,n+1))\n",
    "print(f\"The sum of squares of first {n} natural numbers is {sq}\")"
   ]
  },
  {
   "cell_type": "markdown",
   "id": "d6fe1710-5212-4f06-9a49-aa07722d4978",
   "metadata": {},
   "source": [
    "  - Another version with a **while loop**."
   ]
  },
  {
   "cell_type": "code",
   "execution_count": 35,
   "id": "f1bd4250-3dfd-460f-b5cb-d0de7156fdab",
   "metadata": {},
   "outputs": [
    {
     "name": "stdin",
     "output_type": "stream",
     "text": [
      "Enter a natural number n: 5\n"
     ]
    },
    {
     "name": "stdout",
     "output_type": "stream",
     "text": [
      "The sum of squares of first 5 natural numbers is 55\n"
     ]
    }
   ],
   "source": [
    "n = int(input(\"Enter a natural number n:\"))\n",
    "s = 0\n",
    "i =1\n",
    "while i<=n:\n",
    "    s += i**2\n",
    "    i += 1\n",
    "print(f\"The sum of squares of first {n} natural numbers is {s}\")  "
   ]
  },
  {
   "cell_type": "markdown",
   "id": "89fb067d-a601-40ca-a160-6e7f7665a617",
   "metadata": {},
   "source": [
    "- **(b)** Write Python code that prints, for a natural number `M`, the smallest natural number `n` such that:\n",
    "\n",
    "$$\n",
    "1^2 + 2^2 + \\dots + n^2 \\geq M\n",
    "$$\n",
    "\n",
    "One version with a **for loop** "
   ]
  },
  {
   "cell_type": "code",
   "execution_count": 36,
   "id": "ad3ab251-0a70-4880-a226-5ebf52a84293",
   "metadata": {},
   "outputs": [
    {
     "name": "stdin",
     "output_type": "stream",
     "text": [
      "Enter a number M:  78\n"
     ]
    },
    {
     "name": "stdout",
     "output_type": "stream",
     "text": [
      "The smallest n such that the sum of squares is greater than or equal to 78 is: 6\n"
     ]
    }
   ],
   "source": [
    "M = int(input(\"Enter a number M: \"))\n",
    "s = 0\n",
    "for n in range(1, M+1):\n",
    "    s += n**2\n",
    "    if s >= M:\n",
    "        print(f\"The smallest n such that the sum of squares is greater than or equal to {M} is: {n}\")\n",
    "        break"
   ]
  },
  {
   "cell_type": "markdown",
   "id": "46f24edf-6d1a-4d8c-8b56-ba59251ecd98",
   "metadata": {},
   "source": [
    "and another version with a **while loop**."
   ]
  },
  {
   "cell_type": "code",
   "execution_count": 38,
   "id": "34354fe2-854d-4702-bffe-1e12969902c2",
   "metadata": {},
   "outputs": [
    {
     "name": "stdin",
     "output_type": "stream",
     "text": [
      "Enter a number M:  78\n"
     ]
    },
    {
     "name": "stdout",
     "output_type": "stream",
     "text": [
      "The smallest n such that the sum of squares is greater than or equal to 78 is: 6\n"
     ]
    }
   ],
   "source": [
    "M = int(input(\"Enter a number M: \"))\n",
    "s, n = 0, 1\n",
    "while s < M:\n",
    "    s += n**2\n",
    "    n += 1\n",
    "print(f\"The smallest n such that the sum of squares is greater than or equal to {M} is: {n-1}\")"
   ]
  },
  {
   "cell_type": "markdown",
   "id": "6beaa397-f783-43c4-98a2-4bee7b5927a2",
   "metadata": {},
   "source": [
    "---\n",
    "\n",
    "### 9 Divisors and Prime Factors:\n",
    "\n",
    "- **(a)** Write Python code that prints all the divisors of a given natural number.\n",
    "  "
   ]
  },
  {
   "cell_type": "code",
   "execution_count": 18,
   "id": "f397ed60-b5c5-4ee3-a097-84e2cc452d96",
   "metadata": {},
   "outputs": [
    {
     "name": "stdin",
     "output_type": "stream",
     "text": [
      "Enter a number:  8\n"
     ]
    },
    {
     "name": "stdout",
     "output_type": "stream",
     "text": [
      "Divisors of 8: [1, 2, 4, 8]\n"
     ]
    }
   ],
   "source": [
    "num = int(input(\"Enter a number: \"))\n",
    "divisors = [i for i in range(1, num+1) if num % i == 0]\n",
    "print(f\"Divisors of {num}: {divisors}\")"
   ]
  },
  {
   "cell_type": "markdown",
   "id": "cc6c606d-3501-4dc9-bd67-14bd99e4c908",
   "metadata": {
    "jp-MarkdownHeadingCollapsed": true
   },
   "source": [
    "- **(b)** Read an integer input by the user and calculate its prime factors."
   ]
  },
  {
   "cell_type": "code",
   "execution_count": 42,
   "id": "beaa3569-a9ea-491c-a4fd-6bf1c2529d46",
   "metadata": {},
   "outputs": [
    {
     "name": "stdin",
     "output_type": "stream",
     "text": [
      "Enter a number:  82\n"
     ]
    },
    {
     "name": "stdout",
     "output_type": "stream",
     "text": [
      "Prime factors of 41: [2, 41]\n"
     ]
    }
   ],
   "source": [
    "    n = int(input(\"Enter a number: \"))\n",
    "    i = 2\n",
    "    factors = []\n",
    "    while i * i <= n:\n",
    "        if n % i:\n",
    "            i += 1\n",
    "        else:\n",
    "            n //= i\n",
    "            factors.append(i)\n",
    "    if n > 1:\n",
    "        factors.append(n)\n",
    "    print(f\"Prime factors of {n}: {factors}\")"
   ]
  },
  {
   "cell_type": "markdown",
   "id": "18b49ce8-b93e-42eb-af3b-7336ae575557",
   "metadata": {},
   "source": [
    "---\n",
    "\n",
    "### 10 Multiplication Table:\n",
    "\n",
    "Write a program that reads an integer between 0 and 9 and prints its multiplication table up to `N`, where `N` is another natural number read by the program."
   ]
  },
  {
   "cell_type": "code",
   "execution_count": 43,
   "id": "588ff821-c350-4142-a9c1-bedf972b4ee9",
   "metadata": {},
   "outputs": [
    {
     "name": "stdin",
     "output_type": "stream",
     "text": [
      "Enter a number between 0 and 9:  5\n",
      "Enter the value of N:  56\n"
     ]
    },
    {
     "name": "stdout",
     "output_type": "stream",
     "text": [
      "5 x 1 = 5\n",
      "5 x 2 = 10\n",
      "5 x 3 = 15\n",
      "5 x 4 = 20\n",
      "5 x 5 = 25\n",
      "5 x 6 = 30\n",
      "5 x 7 = 35\n",
      "5 x 8 = 40\n",
      "5 x 9 = 45\n",
      "5 x 10 = 50\n",
      "5 x 11 = 55\n",
      "5 x 12 = 60\n",
      "5 x 13 = 65\n",
      "5 x 14 = 70\n",
      "5 x 15 = 75\n",
      "5 x 16 = 80\n",
      "5 x 17 = 85\n",
      "5 x 18 = 90\n",
      "5 x 19 = 95\n",
      "5 x 20 = 100\n",
      "5 x 21 = 105\n",
      "5 x 22 = 110\n",
      "5 x 23 = 115\n",
      "5 x 24 = 120\n",
      "5 x 25 = 125\n",
      "5 x 26 = 130\n",
      "5 x 27 = 135\n",
      "5 x 28 = 140\n",
      "5 x 29 = 145\n",
      "5 x 30 = 150\n",
      "5 x 31 = 155\n",
      "5 x 32 = 160\n",
      "5 x 33 = 165\n",
      "5 x 34 = 170\n",
      "5 x 35 = 175\n",
      "5 x 36 = 180\n",
      "5 x 37 = 185\n",
      "5 x 38 = 190\n",
      "5 x 39 = 195\n",
      "5 x 40 = 200\n",
      "5 x 41 = 205\n",
      "5 x 42 = 210\n",
      "5 x 43 = 215\n",
      "5 x 44 = 220\n",
      "5 x 45 = 225\n",
      "5 x 46 = 230\n",
      "5 x 47 = 235\n",
      "5 x 48 = 240\n",
      "5 x 49 = 245\n",
      "5 x 50 = 250\n",
      "5 x 51 = 255\n",
      "5 x 52 = 260\n",
      "5 x 53 = 265\n",
      "5 x 54 = 270\n",
      "5 x 55 = 275\n",
      "5 x 56 = 280\n"
     ]
    }
   ],
   "source": [
    "num = int(input(\"Enter a number between 0 and 9: \"))\n",
    "N = int(input(\"Enter the value of N: \"))\n",
    "\n",
    "if 0 <= num <= 9:\n",
    "    for i in range(1, N+1):\n",
    "        print(f\"{num} x {i} = {num * i}\")\n",
    "else:\n",
    "    print(\"Invalid input!\")"
   ]
  },
  {
   "cell_type": "markdown",
   "id": "aec9e9a1-247f-44cf-af82-aff52487b670",
   "metadata": {},
   "source": [
    "---\n",
    "\n",
    "### 11 Multiples of 3, 7, or 11:\n",
    "\n",
    "Write a program that prints all the numbers between 0 and 40 that are multiples of 3, 7, or 11."
   ]
  },
  {
   "cell_type": "code",
   "execution_count": 21,
   "id": "889af92e-c40f-4199-b9d3-ca7ba3d17aba",
   "metadata": {},
   "outputs": [
    {
     "name": "stdout",
     "output_type": "stream",
     "text": [
      "Multiples of 3, 7, or 11 between 0 and 40: [0, 3, 6, 7, 9, 11, 12, 14, 15, 18, 21, 22, 24, 27, 28, 30, 33, 35, 36, 39]\n"
     ]
    }
   ],
   "source": [
    "multiples = [i for i in range(41) if i % 3 == 0 or i % 7 == 0 or i % 11 == 0]\n",
    "print(f\"Multiples of 3, 7, or 11 between 0 and 40: {multiples}\")"
   ]
  },
  {
   "cell_type": "markdown",
   "id": "c3d71462-89a8-4ad0-a896-b17004de9eee",
   "metadata": {},
   "source": [
    "---\n",
    "\n",
    "### 12 Floor of a Float:\n",
    "\n",
    "Write Python code that prints the floor of a float \\( x \\). \n",
    "\n",
    "Recall that the floor of a float \\( x \\) is the largest integer less than or equal to \\( x \\). The floor function satisfies:\n",
    "\n",
    "$$\n",
    "E[x] = 1 + E[x - 1]\n",
    "$$"
   ]
  },
  {
   "cell_type": "code",
   "execution_count": 22,
   "id": "192e9385-d450-4461-a384-3cadf0609c32",
   "metadata": {},
   "outputs": [
    {
     "name": "stdin",
     "output_type": "stream",
     "text": [
      "Enter a floating-point number:  8.9\n"
     ]
    },
    {
     "name": "stdout",
     "output_type": "stream",
     "text": [
      "The floor of 8.9 is: 8\n"
     ]
    }
   ],
   "source": [
    "import math\n",
    "x = float(input(\"Enter a floating-point number: \"))\n",
    "floor_x = math.floor(x)\n",
    "print(f\"The floor of {x} is: {floor_x}\")"
   ]
  },
  {
   "cell_type": "code",
   "execution_count": 45,
   "id": "33d5179e-7196-414d-8418-b3ddd0f72683",
   "metadata": {},
   "outputs": [
    {
     "name": "stdin",
     "output_type": "stream",
     "text": [
      "Enter a float number:  8.9\n"
     ]
    },
    {
     "name": "stdout",
     "output_type": "stream",
     "text": [
      "The floor sum of 8.9 is: 8\n"
     ]
    }
   ],
   "source": [
    "def ffloor(x):\n",
    "    if x < 1:\n",
    "        return 0\n",
    "    return 1 + ffloor(x - 1)\n",
    "\n",
    "x = float(input(\"Enter a float number: \"))\n",
    "result = ffloor(x)\n",
    "print(f\"The floor sum of {x} is: {result}\")"
   ]
  },
  {
   "cell_type": "markdown",
   "id": "c6e75870-9390-4c80-ba65-095b1333e276",
   "metadata": {},
   "source": [
    "---\n",
    "\n",
    "### 13 Quadrants of a Point:\n",
    "\n",
    "Given a point in the plane by its Cartesian coordinates, determine in which quadrant it lies (1st, 2nd, 3rd, 4th), if it lies on an axis, or if it is the origin. \n",
    "\n",
    "Do this for several points in the same execution of the program until the user quits."
   ]
  },
  {
   "cell_type": "code",
   "execution_count": 23,
   "id": "39e7d394-4622-43c1-842a-aef30f957908",
   "metadata": {},
   "outputs": [
    {
     "name": "stdin",
     "output_type": "stream",
     "text": [
      "Enter the x-coordinate (or 'q' to quit):  7\n",
      "Enter the y-coordinate:  9\n"
     ]
    },
    {
     "name": "stdout",
     "output_type": "stream",
     "text": [
      "The point is in the 1st quadrant.\n"
     ]
    },
    {
     "name": "stdin",
     "output_type": "stream",
     "text": [
      "Do you want to enter another point? (y/n):  n\n"
     ]
    }
   ],
   "source": [
    "while True:\n",
    "    x = float(input(\"Enter the x-coordinate (or 'q' to quit): \"))\n",
    "    y = float(input(\"Enter the y-coordinate: \"))\n",
    "    \n",
    "    if x == 0 and y == 0:\n",
    "        print(\"The point is the origin.\")\n",
    "    elif x == 0:\n",
    "        print(\"The point lies on the y-axis.\")\n",
    "    elif y == 0:\n",
    "        print(\"The point lies on the x-axis.\")\n",
    "    elif x > 0 and y > 0:\n",
    "        print(\"The point is in the 1st quadrant.\")\n",
    "    elif x < 0 and y > 0:\n",
    "        print(\"The point is in the 2nd quadrant.\")\n",
    "    elif x < 0 and y < 0:\n",
    "        print(\"The point is in the 3rd quadrant.\")\n",
    "    elif x > 0 and y < 0:\n",
    "        print(\"The point is in the 4th quadrant.\")\n",
    "    \n",
    "    if input(\"Do you want to enter another point? (y/n): \").lower() != 'y':\n",
    "        break"
   ]
  },
  {
   "cell_type": "markdown",
   "id": "a7b3f518-e8fa-4f7b-9d49-9a6b27188e06",
   "metadata": {},
   "source": [
    "---\n",
    "\n",
    "### 1.14 Multiples of `x` Between `0` and `max`:\n",
    "\n",
    "Ask for an integer number between 0 and 9, denoted as `x`. Once the user enters a correct number (that is in the range [0, 10)), the program asks for a second integer number between 0 and 255, denoted as `max`.\n",
    "\n",
    "- The program continues asking for the number until it is correct (in the range [0, 256)).\n",
    "- Show all multiples of `x` that are between 0 and `max`.\n",
    "- Ask the user whether they want to continue. If they say yes, ask for another couple of numbers. Otherwise, finish the program."
   ]
  },
  {
   "cell_type": "code",
   "execution_count": 46,
   "id": "e7f464cd-3ebd-4dd1-b47d-0617bf2eb87a",
   "metadata": {},
   "outputs": [
    {
     "name": "stdin",
     "output_type": "stream",
     "text": [
      "Enter an integer between 0 and 9:  7\n",
      "Enter an integer between 0 and 255:  255\n"
     ]
    },
    {
     "name": "stdout",
     "output_type": "stream",
     "text": [
      "Multiples of 7 between 0 and 255: [0, 7, 14, 21, 28, 35, 42, 49, 56, 63, 70, 77, 84, 91, 98, 105, 112, 119, 126, 133, 140, 147, 154, 161, 168, 175, 182, 189, 196, 203, 210, 217, 224, 231, 238, 245, 252]\n"
     ]
    },
    {
     "name": "stdin",
     "output_type": "stream",
     "text": [
      "Do you want to continue? (y/n):  y\n",
      "Enter an integer between 0 and 9:  9\n",
      "Enter an integer between 0 and 255:  98\n"
     ]
    },
    {
     "name": "stdout",
     "output_type": "stream",
     "text": [
      "Multiples of 9 between 0 and 98: [0, 9, 18, 27, 36, 45, 54, 63, 72, 81, 90]\n"
     ]
    },
    {
     "name": "stdin",
     "output_type": "stream",
     "text": [
      "Do you want to continue? (y/n):  n\n"
     ]
    }
   ],
   "source": [
    "while True:\n",
    "    while True:\n",
    "        x = int(input(\"Enter an integer between 0 and 9: \"))\n",
    "        if 0 <= x <= 9:\n",
    "            break\n",
    "        else:\n",
    "            print(\"Invalid input, please enter a number between 0 and 9.\")\n",
    "\n",
    "    while True:\n",
    "        max_value = int(input(\"Enter an integer between 0 and 255: \"))\n",
    "        if 0 <= max_value <= 255:\n",
    "            break\n",
    "        else:\n",
    "            print(\"Invalid input, please enter a number between 0 and 255.\")\n",
    "\n",
    "    multiples = [i for i in range(0, max_value + 1) if i % x == 0]\n",
    "    print(f\"Multiples of {x} between 0 and {max_value}: {multiples}\")\n",
    "\n",
    "    cont = input(\"Do you want to continue? (y/n): \").lower()\n",
    "    if cont != 'y':\n",
    "        break"
   ]
  }
 ],
 "metadata": {
  "kernelspec": {
   "display_name": "Python 3 (ipykernel)",
   "language": "python",
   "name": "python3"
  },
  "language_info": {
   "codemirror_mode": {
    "name": "ipython",
    "version": 3
   },
   "file_extension": ".py",
   "mimetype": "text/x-python",
   "name": "python",
   "nbconvert_exporter": "python",
   "pygments_lexer": "ipython3",
   "version": "3.12.4"
  }
 },
 "nbformat": 4,
 "nbformat_minor": 5
}
