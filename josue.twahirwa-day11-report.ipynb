{
 "cells": [
  {
   "cell_type": "markdown",
   "id": "946dcae8",
   "metadata": {},
   "source": [
    "# Practical_6: Numpy"
   ]
  },
  {
   "cell_type": "code",
   "execution_count": 3,
   "id": "d197ac4d",
   "metadata": {},
   "outputs": [],
   "source": [
    "import numpy as up"
   ]
  },
  {
   "cell_type": "markdown",
   "id": "a66fc130",
   "metadata": {},
   "source": [
    "---\n",
    "\n",
    "### Exercise 1:\n",
    "Create a NumPy array of integers from 1 to 10.\n"
   ]
  },
  {
   "cell_type": "code",
   "execution_count": 2,
   "id": "a1e3657c",
   "metadata": {},
   "outputs": [
    {
     "name": "stdout",
     "output_type": "stream",
     "text": [
      "[ 1  2  3  4  5  6  7  8  9 10]\n"
     ]
    }
   ],
   "source": [
    "B = up.arange(1,11)\n",
    "print(B)"
   ]
  },
  {
   "cell_type": "markdown",
   "id": "2da52fff",
   "metadata": {},
   "source": [
    "---\n",
    "\n",
    "### Exercise 2:\n",
    "Create a 3x3 NumPy array filled with zeros.\n",
    "\n"
   ]
  },
  {
   "cell_type": "code",
   "execution_count": 17,
   "id": "20921ef7",
   "metadata": {},
   "outputs": [
    {
     "name": "stdout",
     "output_type": "stream",
     "text": [
      "[[0 0 0]\n",
      " [0 0 0]\n",
      " [0 0 0]]\n"
     ]
    }
   ],
   "source": [
    "a = up.zeros((3,3), dtype=int)\n",
    "print(a)"
   ]
  },
  {
   "cell_type": "code",
   "execution_count": 18,
   "id": "b9c88bc9",
   "metadata": {},
   "outputs": [
    {
     "data": {
      "text/plain": [
       "dtype('int64')"
      ]
     },
     "execution_count": 18,
     "metadata": {},
     "output_type": "execute_result"
    }
   ],
   "source": [
    "a.dtype"
   ]
  },
  {
   "cell_type": "code",
   "execution_count": 19,
   "id": "c4fa0cf9",
   "metadata": {},
   "outputs": [
    {
     "name": "stdout",
     "output_type": "stream",
     "text": [
      "[[0 0 0]\n",
      " [0 0 0]\n",
      " [0 0 0]]\n"
     ]
    }
   ],
   "source": [
    "a = up.zeros((3,3), dtype=up.int16)\n",
    "print(a)"
   ]
  },
  {
   "cell_type": "code",
   "execution_count": 20,
   "id": "0dd823af",
   "metadata": {},
   "outputs": [
    {
     "data": {
      "text/plain": [
       "dtype('int16')"
      ]
     },
     "execution_count": 20,
     "metadata": {},
     "output_type": "execute_result"
    }
   ],
   "source": [
    "a.dtype"
   ]
  },
  {
   "cell_type": "markdown",
   "id": "dbfaa3f4",
   "metadata": {},
   "source": [
    "---\n",
    "\n",
    "### Exercise 3:\n",
    "Create a NumPy array of 10 evenly spaced numbers between 0 and 5.\n"
   ]
  },
  {
   "cell_type": "code",
   "execution_count": 8,
   "id": "bb661bee",
   "metadata": {},
   "outputs": [
    {
     "name": "stdout",
     "output_type": "stream",
     "text": [
      "[0.         0.55555556 1.11111111 1.66666667 2.22222222 2.77777778\n",
      " 3.33333333 3.88888889 4.44444444 5.        ]\n"
     ]
    }
   ],
   "source": [
    "a1 = up.linspace(0,5,10)\n",
    "print(a1)"
   ]
  },
  {
   "cell_type": "code",
   "execution_count": 21,
   "id": "762eddb9",
   "metadata": {},
   "outputs": [
    {
     "name": "stdout",
     "output_type": "stream",
     "text": [
      "[0.  0.5 1.  1.5 2.  2.5 3.  3.5 4.  4.5]\n"
     ]
    }
   ],
   "source": [
    "a1 = up.linspace(0,5,10, endpoint=False)\n",
    "print(a1)"
   ]
  },
  {
   "cell_type": "markdown",
   "id": "b28b91d5",
   "metadata": {},
   "source": [
    "---\n",
    "\n",
    "### Exercise 4:\n",
    "Create a 5x5 identity matrix using NumPy.\n"
   ]
  },
  {
   "cell_type": "code",
   "execution_count": 11,
   "id": "82a20375",
   "metadata": {},
   "outputs": [
    {
     "name": "stdout",
     "output_type": "stream",
     "text": [
      "[[1. 0. 0. 0. 0.]\n",
      " [0. 1. 0. 0. 0.]\n",
      " [0. 0. 1. 0. 0.]\n",
      " [0. 0. 0. 1. 0.]\n",
      " [0. 0. 0. 0. 1.]]\n"
     ]
    }
   ],
   "source": [
    "I = up.eye(5)\n",
    "print(I)"
   ]
  },
  {
   "cell_type": "markdown",
   "id": "7c7eb352",
   "metadata": {},
   "source": [
    "---\n",
    "\n",
    "### Exercise 5:\n",
    "Create a 4x4 matrix with random values between 0 and 1.\n",
    "\n"
   ]
  },
  {
   "cell_type": "code",
   "execution_count": 15,
   "id": "41d64661",
   "metadata": {},
   "outputs": [
    {
     "name": "stdout",
     "output_type": "stream",
     "text": [
      "[[0.78515388 0.47921035 0.2416247  0.08124342]\n",
      " [0.78436128 0.96009223 0.56952092 0.72328024]\n",
      " [0.016273   0.1237066  0.62311353 0.70500967]\n",
      " [0.23191004 0.98613009 0.20808333 0.5952999 ]]\n"
     ]
    }
   ],
   "source": [
    "print(up.random.random((4,4)))"
   ]
  },
  {
   "cell_type": "code",
   "execution_count": 23,
   "id": "25c7c1fc",
   "metadata": {},
   "outputs": [
    {
     "name": "stdout",
     "output_type": "stream",
     "text": [
      "[[0.42650861 0.68555876 0.86887409 0.0126237 ]\n",
      " [0.01357461 0.58129986 0.16442672 0.34413608]\n",
      " [0.40715294 0.43779439 0.50894269 0.23294776]\n",
      " [0.75484484 0.25575759 0.81581132 0.19830303]]\n"
     ]
    }
   ],
   "source": [
    "print(up.random.rand(4,4))"
   ]
  },
  {
   "cell_type": "code",
   "execution_count": 24,
   "id": "c8f5b395",
   "metadata": {},
   "outputs": [],
   "source": [
    "up.random.seed(10)"
   ]
  },
  {
   "cell_type": "code",
   "execution_count": 25,
   "id": "7dc04717",
   "metadata": {
    "scrolled": true
   },
   "outputs": [
    {
     "name": "stdout",
     "output_type": "stream",
     "text": [
      "[[0.77132064 0.02075195 0.63364823 0.74880388]\n",
      " [0.49850701 0.22479665 0.19806286 0.76053071]\n",
      " [0.16911084 0.08833981 0.68535982 0.95339335]\n",
      " [0.00394827 0.51219226 0.81262096 0.61252607]]\n"
     ]
    }
   ],
   "source": [
    "print(up.random.rand(4,4))"
   ]
  },
  {
   "cell_type": "code",
   "execution_count": 26,
   "id": "04d938ff",
   "metadata": {},
   "outputs": [],
   "source": [
    "up.random.seed(0)"
   ]
  },
  {
   "cell_type": "code",
   "execution_count": 27,
   "id": "68df0d6d",
   "metadata": {},
   "outputs": [
    {
     "name": "stdout",
     "output_type": "stream",
     "text": [
      "[[0.5488135  0.71518937 0.60276338 0.54488318]\n",
      " [0.4236548  0.64589411 0.43758721 0.891773  ]\n",
      " [0.96366276 0.38344152 0.79172504 0.52889492]\n",
      " [0.56804456 0.92559664 0.07103606 0.0871293 ]]\n"
     ]
    }
   ],
   "source": [
    "print(up.random.rand(4,4))"
   ]
  },
  {
   "cell_type": "markdown",
   "id": "2a8c27eb",
   "metadata": {},
   "source": [
    "---\n",
    "\n",
    "### Exercise 6:\n",
    "Find the shape of a NumPy array.\n"
   ]
  },
  {
   "cell_type": "code",
   "execution_count": 28,
   "id": "455a65b6",
   "metadata": {},
   "outputs": [
    {
     "name": "stdout",
     "output_type": "stream",
     "text": [
      "(5, 5)\n"
     ]
    }
   ],
   "source": [
    "print(I.shape)"
   ]
  },
  {
   "cell_type": "markdown",
   "id": "27ea39e1",
   "metadata": {},
   "source": [
    "---\n",
    "\n",
    "### Exercise 7:\n",
    "Reshape a 1D NumPy array of 16 elements into a 4x4 matrix.\n",
    "\n",
    "```python\n",
    "# Exercise 7\n",
    "```"
   ]
  },
  {
   "cell_type": "code",
   "execution_count": 29,
   "id": "e475075d",
   "metadata": {},
   "outputs": [
    {
     "data": {
      "text/plain": [
       "array([ 0,  1,  2,  3,  4,  5,  6,  7,  8,  9, 10, 11, 12, 13, 14, 15])"
      ]
     },
     "execution_count": 29,
     "metadata": {},
     "output_type": "execute_result"
    }
   ],
   "source": [
    "A = up.arange(16)\n",
    "A"
   ]
  },
  {
   "cell_type": "code",
   "execution_count": 30,
   "id": "1535f51b",
   "metadata": {},
   "outputs": [
    {
     "name": "stdout",
     "output_type": "stream",
     "text": [
      "[[ 0  1  2  3]\n",
      " [ 4  5  6  7]\n",
      " [ 8  9 10 11]\n",
      " [12 13 14 15]]\n"
     ]
    }
   ],
   "source": [
    "print(A.reshape(4,4))"
   ]
  },
  {
   "cell_type": "markdown",
   "id": "68664318",
   "metadata": {},
   "source": [
    "---\n",
    "\n",
    "### Exercise 8:\n",
    "Find the data type of the elements in a NumPy array.\n",
    "\n",
    "```python\n",
    "# Exercise 8\n",
    "```"
   ]
  },
  {
   "cell_type": "code",
   "execution_count": 31,
   "id": "529f68cb",
   "metadata": {},
   "outputs": [
    {
     "data": {
      "text/plain": [
       "dtype('int64')"
      ]
     },
     "execution_count": 31,
     "metadata": {},
     "output_type": "execute_result"
    }
   ],
   "source": [
    "A.dtype"
   ]
  },
  {
   "cell_type": "markdown",
   "id": "355ee6b5",
   "metadata": {},
   "source": [
    "---\n",
    "\n",
    "### Exercise 9:\n",
    "Create a NumPy array of integers from 1 to 100 and find all even numbers in the array.\n",
    "\n",
    "```python\n",
    "# Exercise 9\n",
    "```"
   ]
  },
  {
   "cell_type": "code",
   "execution_count": 32,
   "id": "c7bd981d",
   "metadata": {},
   "outputs": [
    {
     "name": "stdout",
     "output_type": "stream",
     "text": [
      "[2, 4, 6, 8, 10, 12, 14, 16, 18, 20, 22, 24, 26, 28, 30, 32, 34, 36, 38, 40, 42, 44, 46, 48, 50, 52, 54, 56, 58, 60, 62, 64, 66, 68, 70, 72, 74, 76, 78, 80, 82, 84, 86, 88, 90, 92, 94, 96, 98, 100]\n"
     ]
    }
   ],
   "source": [
    "U =[ x for x in up.arange(1,101) if x%2 ==0]\n",
    "print(U)"
   ]
  },
  {
   "cell_type": "code",
   "execution_count": 37,
   "id": "1d27d5a6",
   "metadata": {},
   "outputs": [
    {
     "name": "stdout",
     "output_type": "stream",
     "text": [
      "[  2   4   6   8  10  12  14  16  18  20  22  24  26  28  30  32  34  36\n",
      "  38  40  42  44  46  48  50  52  54  56  58  60  62  64  66  68  70  72\n",
      "  74  76  78  80  82  84  86  88  90  92  94  96  98 100]\n"
     ]
    }
   ],
   "source": [
    "B = up.linspace(2,100,50,dtype=int)\n",
    "print(B)"
   ]
  },
  {
   "cell_type": "markdown",
   "id": "ed09abdb",
   "metadata": {},
   "source": [
    "---\n",
    "\n",
    "### Exercise 10:\n",
    "Generate a 6x6 matrix of random integers between 10 and 50.\n",
    "\n",
    "```python\n",
    "# Exercise 10\n",
    "```"
   ]
  },
  {
   "cell_type": "code",
   "execution_count": 47,
   "id": "795fb431",
   "metadata": {
    "scrolled": true
   },
   "outputs": [
    {
     "name": "stdout",
     "output_type": "stream",
     "text": [
      "[[48 21 28 37 10 24]\n",
      " [45 22 30 21 14 16]\n",
      " [14 13 22 46 24 25]\n",
      " [30 45 33 25 23 31]\n",
      " [15 45 10 41 15 40]\n",
      " [10 46 44 39 13 44]]\n"
     ]
    }
   ],
   "source": [
    "A = up.random.randint(10, 50, (6,6))\n",
    "print(A)"
   ]
  },
  {
   "cell_type": "markdown",
   "id": "50466f37",
   "metadata": {},
   "source": [
    "---\n",
    "\n",
    "### Exercise 11:\n",
    "Slice a 2D NumPy array to extract a submatrix.\n",
    "\n",
    "```python\n",
    "# Exercise 11\n",
    "```"
   ]
  },
  {
   "cell_type": "code",
   "execution_count": 42,
   "id": "a40cdded",
   "metadata": {},
   "outputs": [
    {
     "name": "stdout",
     "output_type": "stream",
     "text": [
      "[[1 2]\n",
      " [2 4]]\n"
     ]
    }
   ],
   "source": [
    "B1 = up.array([[1,2], [2,4]])\n",
    "print(B1)"
   ]
  },
  {
   "cell_type": "code",
   "execution_count": 45,
   "id": "2aeac013",
   "metadata": {},
   "outputs": [
    {
     "name": "stdout",
     "output_type": "stream",
     "text": [
      "[[29 29]\n",
      " [19 42]]\n"
     ]
    }
   ],
   "source": [
    "A1 = A[1:3, 2:4]\n",
    "print(A1)"
   ]
  },
  {
   "cell_type": "markdown",
   "id": "6178253e",
   "metadata": {},
   "source": [
    "---\n",
    "\n",
    "### Exercise 12:\n",
    "Calculate the sum of all elements in a NumPy array.\n",
    "\n",
    "```python\n",
    "# Exercise 12\n",
    "```"
   ]
  },
  {
   "cell_type": "code",
   "execution_count": 46,
   "id": "55cd066c",
   "metadata": {},
   "outputs": [
    {
     "name": "stdout",
     "output_type": "stream",
     "text": [
      "119\n"
     ]
    }
   ],
   "source": [
    "s = A1.sum()\n",
    "print(s)"
   ]
  },
  {
   "cell_type": "markdown",
   "id": "0ed9e470",
   "metadata": {},
   "source": [
    "---\n",
    "\n",
    "### Exercise 13:\n",
    "Calculate the mean, median, and standard deviation of a NumPy array.\n",
    "\n",
    "```python\n",
    "# Exercise 13\n",
    "```"
   ]
  },
  {
   "cell_type": "code",
   "execution_count": 52,
   "id": "50d135a0",
   "metadata": {},
   "outputs": [
    {
     "name": "stdout",
     "output_type": "stream",
     "text": [
      "Mean: 28.02777777777778\n",
      "============================\n",
      "============================\n",
      "Standard deviation: 12.388359480467297\n"
     ]
    }
   ],
   "source": [
    "m = A.mean()\n",
    "#me = A.median(A)\n",
    "sd = A.std()\n",
    "print(f\"Mean: {m}\")\n",
    "print(\"============================\")\n",
    "#Print(f\"Median: {me}\")\n",
    "print(\"============================\")\n",
    "print(f\"Standard deviation: {sd}\")"
   ]
  },
  {
   "cell_type": "markdown",
   "id": "3a82dc19",
   "metadata": {},
   "source": [
    "---\n",
    "\n",
    "### Exercise 14:\n",
    "Find the maximum and minimum values in a NumPy array.\n",
    "\n",
    "```python\n",
    "# Exercise 14\n",
    "```"
   ]
  },
  {
   "cell_type": "code",
   "execution_count": 54,
   "id": "0afb3952",
   "metadata": {},
   "outputs": [
    {
     "name": "stdout",
     "output_type": "stream",
     "text": [
      "10\n",
      "48\n"
     ]
    }
   ],
   "source": [
    "print(A.min())\n",
    "print(A.max())"
   ]
  },
  {
   "cell_type": "markdown",
   "id": "f13d1a42",
   "metadata": {},
   "source": [
    "---\n",
    "\n",
    "### Exercise 15:\n",
    "Create a NumPy array of 20 random integers and find the index of the maximum value.\n",
    "\n",
    "```python\n",
    "# Exercise 15\n",
    "```"
   ]
  },
  {
   "cell_type": "code",
   "execution_count": 59,
   "id": "a3a2daf1",
   "metadata": {},
   "outputs": [
    {
     "name": "stdout",
     "output_type": "stream",
     "text": [
      "[ 60 165  24  51  68  46  20  96  53 114  21  12  61  90  42 192 138  48\n",
      "  29 184]\n"
     ]
    }
   ],
   "source": [
    "C = up.random.randint(10,201, (20))\n",
    "print(C)"
   ]
  },
  {
   "cell_type": "code",
   "execution_count": 63,
   "id": "4c540097",
   "metadata": {},
   "outputs": [
    {
     "name": "stdout",
     "output_type": "stream",
     "text": [
      "(array([15]),)\n"
     ]
    }
   ],
   "source": [
    "ma = up.where(C == C.max())\n",
    "print(ma)"
   ]
  },
  {
   "cell_type": "code",
   "execution_count": 64,
   "id": "25298730",
   "metadata": {},
   "outputs": [
    {
     "name": "stdout",
     "output_type": "stream",
     "text": [
      "The maximum value is 192 on position 15\n"
     ]
    }
   ],
   "source": [
    "print(f\"The maximum value is {C.max()} on position {up.argmax(C)}\")"
   ]
  },
  {
   "cell_type": "markdown",
   "id": "9f81f678",
   "metadata": {},
   "source": [
    "---\n",
    "\n",
    "### Exercise 16:\n",
    "Create a NumPy array and reverse its elements.\n",
    "\n",
    "```python\n",
    "# Exercise 16\n",
    "```"
   ]
  },
  {
   "cell_type": "code",
   "execution_count": 67,
   "id": "929de7f6",
   "metadata": {},
   "outputs": [
    {
     "name": "stdout",
     "output_type": "stream",
     "text": [
      "[29 28 27 26 25 24 23 22 21 20 19 18 17 16 15 14 13 12 11 10  9  8  7  6\n",
      "  5  4  3  2  1  0]\n"
     ]
    }
   ],
   "source": [
    "A2 = up.arange(30)\n",
    "\n",
    "print(A2[::-1])"
   ]
  },
  {
   "cell_type": "markdown",
   "id": "aa27b09f",
   "metadata": {},
   "source": [
    "---\n",
    "\n",
    "### Exercise 17:\n",
    "Create a 3x3 matrix and multiply it element-wise by another 3x3 matrix.\n",
    "\n",
    "```python\n",
    "# Exercise 17\n",
    "```"
   ]
  },
  {
   "cell_type": "code",
   "execution_count": 73,
   "id": "2f0fb4ac",
   "metadata": {},
   "outputs": [
    {
     "name": "stdout",
     "output_type": "stream",
     "text": [
      "[[1 2 3]\n",
      " [4 5 6]\n",
      " [7 8 9]]\n",
      "[[ 9 10 11]\n",
      " [12 13 14]\n",
      " [15 16 17]]\n",
      "[[  9  20  33]\n",
      " [ 48  65  84]\n",
      " [105 128 153]]\n"
     ]
    }
   ],
   "source": [
    "X = up.arange(1, 10).reshape((3, 3))\n",
    "Y = up.arange(9, 18).reshape((3, 3))\n",
    "print(X)\n",
    "print(Y)\n",
    "print(up.multiply(X,Y))"
   ]
  },
  {
   "cell_type": "markdown",
   "id": "08f188a9",
   "metadata": {},
   "source": [
    "---\n",
    "\n",
    "### Exercise 18:\n",
    "Create a diagonal matrix from a given 1D array.\n",
    "\n",
    "```python\n",
    "# Exercise 18\n",
    "```"
   ]
  },
  {
   "cell_type": "code",
   "execution_count": 75,
   "id": "1b90976c",
   "metadata": {},
   "outputs": [
    {
     "name": "stdout",
     "output_type": "stream",
     "text": [
      "[[1 0 0 0]\n",
      " [0 2 0 0]\n",
      " [0 0 3 0]\n",
      " [0 0 0 4]]\n"
     ]
    }
   ],
   "source": [
    "D = up.diag([1,2,3,4])\n",
    "print(D)"
   ]
  },
  {
   "cell_type": "markdown",
   "id": "41b69c53",
   "metadata": {},
   "source": [
    "---\n",
    "\n",
    "### Exercise 19:\n",
    "Perform matrix multiplication on two 2D NumPy arrays.\n",
    "\n",
    "```python\n",
    "# Exercise 19\n",
    "```"
   ]
  },
  {
   "cell_type": "code",
   "execution_count": 80,
   "id": "ec7eac34",
   "metadata": {},
   "outputs": [
    {
     "name": "stdout",
     "output_type": "stream",
     "text": [
      "[[ 9 10]\n",
      " [11 12]]\n",
      "[[4 5]\n",
      " [6 7]]\n",
      "[[36 50]\n",
      " [66 84]]\n"
     ]
    }
   ],
   "source": [
    "C2 = up.arange(4, 8).reshape((2,2))\n",
    "C1 = up.arange(9, 13).reshape((2,2))\n",
    "print(C1)\n",
    "print(C2)\n",
    "print(up.multiply(C1,C2))"
   ]
  },
  {
   "cell_type": "markdown",
   "id": "ea95b924",
   "metadata": {},
   "source": [
    "---\n",
    "\n",
    "### Exercise 20:\n",
    "Flatten a 2D NumPy array into a 1D array.\n",
    "\n",
    "```python\n",
    "# Exercise 20\n",
    "```"
   ]
  },
  {
   "cell_type": "code",
   "execution_count": 83,
   "id": "b35416d8",
   "metadata": {},
   "outputs": [
    {
     "name": "stdout",
     "output_type": "stream",
     "text": [
      "[4 5 6 7]\n",
      "========================\n",
      "[4 5 6 7]\n",
      "========================\n",
      "[[4 5 6 7]]\n",
      "========================\n"
     ]
    }
   ],
   "source": [
    "print(C2.flatten())\n",
    "print(\"========================\")\n",
    "print(C2.ravel())\n",
    "print(\"========================\")\n",
    "print(C2.reshape(1,4))\n",
    "print(\"========================\")"
   ]
  },
  {
   "cell_type": "markdown",
   "id": "f5605220",
   "metadata": {},
   "source": [
    "---\n",
    "\n",
    "### Exercise 21:\n",
    "Stack two NumPy arrays vertically.\n",
    "\n",
    "```python\n",
    "# Exercise 21\n",
    "```"
   ]
  },
  {
   "cell_type": "code",
   "execution_count": 86,
   "id": "f3610a34",
   "metadata": {},
   "outputs": [
    {
     "name": "stdout",
     "output_type": "stream",
     "text": [
      "[[ 9 10]\n",
      " [11 12]]\n"
     ]
    }
   ],
   "source": [
    "print(up.vstack(C1))\n",
    "up.vstack"
   ]
  },
  {
   "cell_type": "code",
   "execution_count": 4,
   "id": "0bad8400-bbf6-4a39-8f77-9b0de0b9666c",
   "metadata": {},
   "outputs": [
    {
     "name": "stdout",
     "output_type": "stream",
     "text": [
      "[[1 2 3]\n",
      " [4 5 6]]\n"
     ]
    }
   ],
   "source": [
    "ar1 = up.array([1, 2, 3])\n",
    "ar2 = up.array([4, 5, 6])\n",
    "st_v = up.vstack((ar1, ar2))\n",
    "print(st_v)"
   ]
  },
  {
   "cell_type": "markdown",
   "id": "b396a902",
   "metadata": {},
   "source": [
    "---\n",
    "\n",
    "### Exercise 22:\n",
    "Stack two NumPy arrays horizontally.\n",
    "\n",
    "```python\n",
    "# Exercise 22\n",
    "```"
   ]
  },
  {
   "cell_type": "code",
   "execution_count": 7,
   "id": "59c5bad3",
   "metadata": {},
   "outputs": [
    {
     "name": "stdout",
     "output_type": "stream",
     "text": [
      "The stacked horizontally: [1 2 3 4 5 6]\n"
     ]
    }
   ],
   "source": [
    "ar1 = up.array([1, 2, 3])\n",
    "ar2 = up.array([4, 5, 6])\n",
    "st_h = up.hstack((ar1, ar2))\n",
    "print(\"The stacked horizontally:\",st_h)"
   ]
  },
  {
   "cell_type": "markdown",
   "id": "08dbf09d",
   "metadata": {},
   "source": [
    "---\n",
    "\n",
    "### Exercise 23:\n",
    "Split a NumPy array into multiple sub-arrays.\n",
    "\n",
    "```python\n",
    "# Exercise 23\n",
    "```"
   ]
  },
  {
   "cell_type": "code",
   "execution_count": 9,
   "id": "434afedb",
   "metadata": {},
   "outputs": [
    {
     "name": "stdout",
     "output_type": "stream",
     "text": [
      "Multiple sub arrays:\n",
      "[1 2]\n",
      "[3 4]\n",
      "[5 6]\n"
     ]
    }
   ],
   "source": [
    "arr = up.array([1, 2, 3, 4, 5, 6])\n",
    "\n",
    "sub_arrs = up.array_split(arr, 3)\n",
    "\n",
    "print(\"Multiple sub arrays:\")\n",
    "for sub in sub_arrs:\n",
    "    print(sub)"
   ]
  },
  {
   "cell_type": "markdown",
   "id": "8ad9fcc2",
   "metadata": {},
   "source": [
    "---\n",
    "\n",
    "### Exercise 24:\n",
    "Generate a random NumPy array and round each element to two decimal places.\n",
    "\n",
    "```python\n",
    "# Exercise 24\n",
    "```"
   ]
  },
  {
   "cell_type": "code",
   "execution_count": 11,
   "id": "6d492482",
   "metadata": {},
   "outputs": [
    {
     "name": "stdout",
     "output_type": "stream",
     "text": [
      "[[0.89 0.67 0.49 0.14]\n",
      " [0.09 0.62 0.72 0.89]\n",
      " [0.09 0.77 0.18 0.5 ]\n",
      " [0.96 0.8  0.74 0.75]]\n"
     ]
    }
   ],
   "source": [
    "rarr = up.random.rand(4, 4)\n",
    "rd_arr = up.round(rarr, 2)\n",
    "print(rd_arr)"
   ]
  },
  {
   "cell_type": "markdown",
   "id": "dbe3faeb",
   "metadata": {},
   "source": [
    "---\n",
    "\n",
    "### Exercise 25:\n",
    "Find the unique elements of a NumPy array.\n",
    "\n",
    "```python\n",
    "# Exercise 25\n",
    "```"
   ]
  },
  {
   "cell_type": "code",
   "execution_count": 15,
   "id": "8b475c96",
   "metadata": {},
   "outputs": [
    {
     "name": "stdout",
     "output_type": "stream",
     "text": [
      "Unique elements: [1 2 3 4 5]\n"
     ]
    }
   ],
   "source": [
    "# Array with duplicate elements\n",
    "ar = up.array([1, 2, 2, 3, 4, 4, 5])\n",
    "unel = up.unique(ar)\n",
    "print(f\"Unique elements: {unel}\")"
   ]
  },
  {
   "cell_type": "markdown",
   "id": "d3a5d6dc",
   "metadata": {},
   "source": [
    "---\n",
    "\n",
    "### Exercise 26:\n",
    "Replace all elements in a NumPy array that are less than a specific value with that value.\n",
    "\n",
    "```python\n",
    "# Exercise 26\n",
    "```"
   ]
  },
  {
   "cell_type": "code",
   "execution_count": 16,
   "id": "14857596",
   "metadata": {},
   "outputs": [
    {
     "name": "stdout",
     "output_type": "stream",
     "text": [
      "Modified array: [100   4   9 100  11]\n"
     ]
    }
   ],
   "source": [
    "a1 = up.array([1, 4, 9, 3, 11])\n",
    "\n",
    "# Replacing all elements less than 4 with the value 100\n",
    "mod_a1 = up.where(a1 < 4, 100, a1)\n",
    "print(\"Modified array:\", mod_a1)"
   ]
  },
  {
   "cell_type": "markdown",
   "id": "2c0ef438",
   "metadata": {},
   "source": [
    "---\n",
    "\n",
    "### Exercise 27:\n",
    "Find the cumulative sum of the elements in a NumPy array.\n",
    "\n",
    "```python\n",
    "# Exercise 27\n",
    "```"
   ]
  },
  {
   "cell_type": "code",
   "execution_count": 18,
   "id": "66ba05af",
   "metadata": {},
   "outputs": [
    {
     "name": "stdout",
     "output_type": "stream",
     "text": [
      "Cumulative sum: [ 1  5 14 17 28]\n"
     ]
    }
   ],
   "source": [
    "cumulative_sum = up.cumsum(a1)\n",
    "print(\"Cumulative sum:\", cumulative_sum)"
   ]
  },
  {
   "cell_type": "markdown",
   "id": "15d0ceb8",
   "metadata": {},
   "source": [
    "---\n",
    "\n",
    "### Exercise 28:\n",
    "Create a NumPy array and find the number of non-zero elements in it.\n",
    "\n",
    "```python\n",
    "# Exercise 28\n",
    "```"
   ]
  },
  {
   "cell_type": "code",
   "execution_count": 20,
   "id": "1bac3381",
   "metadata": {},
   "outputs": [
    {
     "name": "stdout",
     "output_type": "stream",
     "text": [
      "Number of non-zero elements: 3\n"
     ]
    }
   ],
   "source": [
    "B3 = up.array([1, 0, 2, 0, 3])\n",
    "nz = up.count_nonzero(B3)\n",
    "print(\"Number of non-zero elements:\", nz)"
   ]
  },
  {
   "cell_type": "code",
   "execution_count": 21,
   "id": "77d6f423",
   "metadata": {},
   "outputs": [
    {
     "name": "stdout",
     "output_type": "stream",
     "text": [
      "Number of non-zero elements: 3\n"
     ]
    }
   ],
   "source": [
    "count = 0\n",
    "cnt = sum(count+1 for B3 in B3 if B3 != 0)\n",
    "print(f\"Number of non-zero elements: {cnt}\")"
   ]
  },
  {
   "cell_type": "markdown",
   "id": "2f5105bb",
   "metadata": {},
   "source": [
    "---\n",
    "\n",
    "### Exercise 29:\n",
    "Create a NumPy array of random integers and sort it in ascending order.\n",
    "\n",
    "```python\n",
    "# Exercise 29\n",
    "```"
   ]
  },
  {
   "cell_type": "code",
   "execution_count": 23,
   "id": "72473965-6c77-4873-b002-6f9835c6e16f",
   "metadata": {},
   "outputs": [
    {
     "name": "stdout",
     "output_type": "stream",
     "text": [
      "Sorted array: [ 6  7 21 39 55 73 73 76 92 95]\n"
     ]
    }
   ],
   "source": [
    "rint = up.random.randint(1, 100, size=10)\n",
    "s_arr = up.sort(rint)\n",
    "print(f\"Sorted array: {s_arr}\")"
   ]
  },
  {
   "cell_type": "markdown",
   "id": "56598564",
   "metadata": {},
   "source": [
    "---\n",
    "\n",
    "### Exercise 30:\n",
    "Find the row-wise and column-wise sum of a 3x3 matrix.\n",
    "\n",
    "```python\n",
    "# Exercise 30\n",
    "```"
   ]
  },
  {
   "cell_type": "code",
   "execution_count": 25,
   "id": "48fa6173",
   "metadata": {},
   "outputs": [
    {
     "name": "stdout",
     "output_type": "stream",
     "text": [
      "Row-wise sum: [ 6 15 24]\n",
      "Column-wise sum: [12 15 18]\n"
     ]
    }
   ],
   "source": [
    "M = up.array([[1, 2, 3], [4, 5, 6], [7, 8, 9]])\n",
    "\n",
    "row_sum = up.sum(M, axis=1)\n",
    "column_sum =up.sum(M, axis=0)\n",
    "print(f\"Row-wise sum: {row_sum}\")\n",
    "print(f\"Column-wise sum: {column_sum}\")"
   ]
  },
  {
   "cell_type": "markdown",
   "id": "3d5adc07-75a6-4597-8b65-d545e06fbbfe",
   "metadata": {},
   "source": [
    "---\n",
    "\n",
    "### Exercise 31:\n",
    "Generate a 2D NumPy array with random values and normalize it (scale the values between 0 and 1).\n",
    "\n",
    "```python\n",
    "# Exercise 31\n",
    "```"
   ]
  },
  {
   "cell_type": "code",
   "execution_count": 28,
   "id": "814eb3e8-c7fa-439b-9fc9-39fb2e8dbb9d",
   "metadata": {},
   "outputs": [
    {
     "name": "stdout",
     "output_type": "stream",
     "text": [
      "unchanged array:\n",
      "[[0.01634247 0.78332395]\n",
      " [0.99356714 0.21255491]]\n",
      "Normalized array:\n",
      "[[0.         0.78485686]\n",
      " [1.         0.20078539]]\n"
     ]
    }
   ],
   "source": [
    "D2 = up.random.rand(2, 2)\n",
    "# Normalize the array \n",
    "m = up.min(D2)\n",
    "M = up.max(D2)\n",
    "nor_arr = (D2 - m) / (M - m)\n",
    "\n",
    "print(\"unchanged array:\")\n",
    "print(D2)\n",
    "print(\"Normalized array:\")\n",
    "print(nor_arr)"
   ]
  },
  {
   "cell_type": "markdown",
   "id": "200c0f8a-8707-4140-bec7-6ff9fd03de20",
   "metadata": {},
   "source": [
    "---\n",
    "\n",
    "### Exercise 32:\n",
    "Create two NumPy arrays and find the dot product.\n",
    "\n",
    "```python\n",
    "# Exercise 32\n",
    "```"
   ]
  },
  {
   "cell_type": "code",
   "execution_count": 31,
   "id": "3132c79e-4d4d-41b3-8f9d-8ecd871f02b3",
   "metadata": {},
   "outputs": [
    {
     "name": "stdout",
     "output_type": "stream",
     "text": [
      "Dot product: 18\n"
     ]
    }
   ],
   "source": [
    "# Create two arrays\n",
    "u1 = up.array([-2, 2, 7])\n",
    "u2 = up.array([0, -5, 4])\n",
    "dotp = up.dot(u1, u2)\n",
    "print(\"Dot product: {}\".format(dotp))"
   ]
  },
  {
   "cell_type": "markdown",
   "id": "0fdd684e-5db8-4346-9710-338f27e5aa43",
   "metadata": {},
   "source": [
    "---\n",
    "\n",
    "### Exercise 33:\n",
    "Find the trace of a square NumPy matrix.\n",
    "\n",
    "```python\n",
    "# Exercise 33\n",
    "```"
   ]
  },
  {
   "cell_type": "code",
   "execution_count": 36,
   "id": "82987718-885c-4430-bd7b-29bbb7a6d0c6",
   "metadata": {},
   "outputs": [
    {
     "name": "stdout",
     "output_type": "stream",
     "text": [
      "Trace of the matrix: 21\n"
     ]
    }
   ],
   "source": [
    "B3 = up.arange(3,12).reshape(3,3)\n",
    "B3_trace = up.trace(B3)\n",
    "print(\"Trace of the matrix:\", B3_trace)"
   ]
  },
  {
   "cell_type": "markdown",
   "id": "27ff13d2-5957-4cd7-9281-a8ab6c0ccddb",
   "metadata": {},
   "source": [
    "---\n",
    "\n",
    "### Exercise 34:\n",
    "Create a 2D array and swap two rows.\n",
    "\n",
    "```python\n",
    "# Exercise 34\n",
    "```"
   ]
  },
  {
   "cell_type": "code",
   "execution_count": 40,
   "id": "17ae3361-fa47-4610-98c1-67a6efb7c809",
   "metadata": {},
   "outputs": [
    {
     "name": "stdout",
     "output_type": "stream",
     "text": [
      "Matrix after swapping rows:\n",
      "[[7 8 9]\n",
      " [4 5 6]\n",
      " [1 2 3]]\n"
     ]
    }
   ],
   "source": [
    "mx = up.array([[1, 2, 3], [4, 5, 6], [7, 8, 9]])\n",
    "\n",
    "# Swap row 0 with row 2\n",
    "mx[[0, 2]] = mx[[2, 0]]\n",
    "print(\"Matrix after swapping rows:\")\n",
    "print(mx)"
   ]
  },
  {
   "cell_type": "markdown",
   "id": "eb93644b-5480-4881-98f9-f3bd5d8e794d",
   "metadata": {},
   "source": [
    "---\n",
    "\n",
    "### Exercise 35:\n",
    "Create a 1D NumPy array and convert it into a column vector.\n",
    "\n",
    "```python\n",
    "# Exercise 35\n",
    "```"
   ]
  },
  {
   "cell_type": "code",
   "execution_count": 41,
   "id": "98e45764-2539-4050-8a0d-300d889c863d",
   "metadata": {},
   "outputs": [
    {
     "name": "stdout",
     "output_type": "stream",
     "text": [
      "Column vector:\n",
      "[[1]\n",
      " [2]\n",
      " [3]\n",
      " [4]]\n"
     ]
    }
   ],
   "source": [
    "B4 = up.array([1, 2, 3, 4])\n",
    "column_vector = B4[:, up.newaxis]\n",
    "print(\"Column vector:\")\n",
    "print(column_vector)"
   ]
  },
  {
   "cell_type": "markdown",
   "id": "bf1b547c-f85c-4593-b2f9-64f4932437ec",
   "metadata": {},
   "source": [
    "---\n",
    "\n",
    "### Exercise 36:\n",
    "Find the determinant of a 3x3 matrix.\n",
    "\n",
    "```python\n",
    "# Exercise 36\n",
    "```"
   ]
  },
  {
   "cell_type": "code",
   "execution_count": 44,
   "id": "1f64df26-43df-4bda-8424-9c42b316c738",
   "metadata": {},
   "outputs": [
    {
     "name": "stdout",
     "output_type": "stream",
     "text": [
      "Determinant of the matrix: 0\n"
     ]
    }
   ],
   "source": [
    "B5 = up.array([[1, 2, 3], [4, 5, 6], [7, 8, 9]])\n",
    "det = up.linalg.det(B5)\n",
    "print(f\"Determinant of the matrix: {int(det)}\")"
   ]
  },
  {
   "cell_type": "markdown",
   "id": "66d8653b-5c9d-4565-8154-5193f5cc9f08",
   "metadata": {},
   "source": [
    "---\n",
    "\n",
    "### Exercise 37:\n",
    "Find the eigenvalues and eigenvectors of a 2x2 matrix.\n",
    "\n",
    "```python\n",
    "# Exercise 37\n",
    "```"
   ]
  },
  {
   "cell_type": "code",
   "execution_count": 56,
   "id": "1f49e9ff-5f14-493f-92c3-fd582599ada2",
   "metadata": {},
   "outputs": [
    {
     "name": "stdout",
     "output_type": "stream",
     "text": [
      "Eigenvalues: [1.86 2.   9.14]\n",
      "Eigenvectors: [[ 0.025 -0.     0.335]\n",
      " [-0.9   -0.894  0.235]\n",
      " [ 0.436  0.447  0.912]]\n"
     ]
    }
   ],
   "source": [
    "B6 = up.array([[3, 1, 2], [5, 2, 0], [1, 3, 8]])\n",
    "eva, eve = up.linalg.eig(B6)\n",
    "print(\"Eigenvalues:\", up.round(eva, 3))\n",
    "print(\"Eigenvectors:\",up.round(eve, 3))"
   ]
  },
  {
   "cell_type": "markdown",
   "id": "f0a3570d-08f0-408f-8629-eb71a179d6f3",
   "metadata": {},
   "source": [
    "---\n",
    "\n",
    "### Exercise 38:\n",
    "Solve a system of linear equations using NumPy.\n",
    "\n",
    "```python\n",
    "# Exercise 38\n",
    "```"
   ]
  },
  {
   "cell_type": "code",
   "execution_count": 58,
   "id": "143ed603-4e8e-4c9a-9445-5412b401ca27",
   "metadata": {},
   "outputs": [
    {
     "name": "stdout",
     "output_type": "stream",
     "text": [
      "Solution to the system of equations: [1.2 5.6]\n"
     ]
    }
   ],
   "source": [
    "A = up.array([[2, 1], [1, 3]])\n",
    "B = up.array([8, 18])\n",
    "X = up.linalg.solve(A, B)\n",
    "print(f\"Solution to the system of equations: {X}\")"
   ]
  },
  {
   "cell_type": "markdown",
   "id": "f38d638f-6dd3-4e65-b759-72eceba9245a",
   "metadata": {},
   "source": [
    "---\n",
    "\n",
    "### Exercise 39:\n",
    "Add Gaussian noise to a NumPy array.\n",
    "\n",
    "```python\n",
    "# Exercise 39\n",
    "```"
   ]
  },
  {
   "cell_type": "code",
   "execution_count": 61,
   "id": "dab5e808-bfd2-42d3-84c6-308c4e997b46",
   "metadata": {},
   "outputs": [
    {
     "name": "stdout",
     "output_type": "stream",
     "text": [
      "Array with Gaussian noise: [11.24063299 19.28716346 30.41403185 40.59420291]\n"
     ]
    }
   ],
   "source": [
    "B7 = up.array([10, 20, 30, 40])\n",
    "b7 = up.random.normal(0, 1, B7.shape) # Generate Gaussian noise\n",
    "# Add noise to the array\n",
    "b71 = B7 + b7\n",
    "\n",
    "# Print the result\n",
    "print(f\"Array with Gaussian noise: {b71}\")"
   ]
  },
  {
   "cell_type": "markdown",
   "id": "28b4fdb2-0dec-42fb-97ed-ce069982133f",
   "metadata": {},
   "source": [
    "---\n",
    "\n",
    "### Exercise 40:\n",
    "Create a 4x4 matrix and extract the diagonal elements.\n",
    "\n",
    "```python\n",
    "# Exercise 40\n",
    "```"
   ]
  },
  {
   "cell_type": "code",
   "execution_count": 66,
   "id": "adc5da8a-18e6-456b-b7ba-b159526af926",
   "metadata": {},
   "outputs": [
    {
     "name": "stdout",
     "output_type": "stream",
     "text": [
      "Diagonal elements: [ 1  6 11 16]\n"
     ]
    }
   ],
   "source": [
    "matrix = up.arange(1,17).reshape(4,4)\n",
    "diagonal = up.diag(matrix)\n",
    "print(f\"Diagonal elements: {diagonal}\")"
   ]
  },
  {
   "cell_type": "markdown",
   "id": "c3a53818-85b5-4119-96b3-0a1c1152729a",
   "metadata": {},
   "source": [
    "---\n",
    "\n",
    "### Exercise 41:\n",
    "Generate a NumPy array of 100 random values and clip the values to a range between 10 and 50.\n",
    "\n",
    "```python\n",
    "# Exercise 41\n",
    "```"
   ]
  },
  {
   "cell_type": "code",
   "execution_count": 72,
   "id": "01d142a9-1d93-4aec-a8f5-3a1811e01538",
   "metadata": {},
   "outputs": [
    {
     "name": "stdout",
     "output_type": "stream",
     "text": [
      "The clipped values: [50 50 50 50 50 50 50 10 50 50 50 50 50 41 50 50 29 29 50 50 50 50 50 50\n",
      " 50 50 50 50 50 50 50 50 50 17 38 50 50 39 23 50 10 12 50 32 23 50 50 50\n",
      " 37 50 50 36 50 50 50 50 43 17 10 50 50 41 50 41 50 50 50 50 50 29 50 50\n",
      " 50 50 50 50 50 50 10 50 50 50 50 50 50 50 50 50 50 50 50 19 48 50 50 33\n",
      " 32 50 26 50]\n"
     ]
    }
   ],
   "source": [
    "B8 = up.random.randint(1,180, (100))\n",
    "clipped = up.clip(B8, 10, 50)\n",
    "print(f\"The clipped values: {clipped}\")"
   ]
  },
  {
   "cell_type": "markdown",
   "id": "75e1d943-5758-4463-ba36-8e8bff860c09",
   "metadata": {},
   "source": [
    "---\n",
    "\n",
    "### Exercise 42:\n",
    "Create a 2D NumPy array and replace all negative values with zero.\n",
    "\n",
    "```python\n",
    "# Exercise 42\n",
    "```"
   ]
  },
  {
   "cell_type": "code",
   "execution_count": 75,
   "id": "b3ab994d-306f-45a4-b1f2-f9c18aeb062d",
   "metadata": {},
   "outputs": [
    {
     "name": "stdout",
     "output_type": "stream",
     "text": [
      "[[1 0 3]\n",
      " [0 5 0]]\n"
     ]
    }
   ],
   "source": [
    "B9 = up.array([[1, -2, 3], [-4, 5, -6]])\n",
    "B9[B9 < 0] = 0\n",
    "print(B9)"
   ]
  },
  {
   "cell_type": "markdown",
   "id": "58c252c9-4faf-49b8-b6c4-2bb97df16a3b",
   "metadata": {},
   "source": [
    "---\n",
    "\n",
    "### Exercise 43:\n",
    "Find the inner and outer products of two NumPy arrays.\n",
    "\n",
    "```python\n",
    "# Exercise 43\n",
    "```"
   ]
  },
  {
   "cell_type": "code",
   "execution_count": 79,
   "id": "d935a009-071b-4f39-9049-78a22d05f186",
   "metadata": {},
   "outputs": [
    {
     "name": "stdout",
     "output_type": "stream",
     "text": [
      "Inner product: 7\n",
      "Outer product:\n",
      "[[-4 -2 -1]\n",
      " [12  6  3]\n",
      " [20 10  5]]\n"
     ]
    }
   ],
   "source": [
    "u = up.array([-1, 3, 5])\n",
    "v = up.array([4, 2, 1])\n",
    "innerp = up.inner(u, v)\n",
    "outerp = up.outer(u, v)\n",
    "print(\"Inner product:\", innerp)\n",
    "print(\"Outer product:\")\n",
    "print(outerp)"
   ]
  },
  {
   "cell_type": "markdown",
   "id": "25594cd5-e77a-42df-b1d3-8dbde57d9866",
   "metadata": {},
   "source": [
    "---\n",
    "\n",
    "### Exercise 44:\n",
    "Calculate the pairwise distances between points in a NumPy array.\n",
    "\n",
    "```python\n",
    "# Exercise 44\n",
    "```"
   ]
  },
  {
   "cell_type": "code",
   "execution_count": 84,
   "id": "7d4a034c-cafb-4e42-a209-5885a7afefbf",
   "metadata": {},
   "outputs": [
    {
     "name": "stdout",
     "output_type": "stream",
     "text": [
      "[1.41421356 2.82842712 1.41421356]\n"
     ]
    }
   ],
   "source": [
    "from scipy.spatial import distance\n",
    "\n",
    "points = up.array([[0, 0], [1, 1], [2, 2]])\n",
    "dists = distance.pdist(points)\n",
    "print(dists)"
   ]
  }
 ],
 "metadata": {
  "kernelspec": {
   "display_name": "Python 3 (ipykernel)",
   "language": "python",
   "name": "python3"
  },
  "language_info": {
   "codemirror_mode": {
    "name": "ipython",
    "version": 3
   },
   "file_extension": ".py",
   "mimetype": "text/x-python",
   "name": "python",
   "nbconvert_exporter": "python",
   "pygments_lexer": "ipython3",
   "version": "3.12.4"
  }
 },
 "nbformat": 4,
 "nbformat_minor": 5
}
